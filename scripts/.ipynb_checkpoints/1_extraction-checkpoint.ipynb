{
 "cells": [
  {
   "cell_type": "markdown",
   "metadata": {},
   "source": [
    "# Requirements"
   ]
  },
  {
   "cell_type": "code",
   "execution_count": 3,
   "metadata": {},
   "outputs": [],
   "source": [
    "import sddk\n",
    "import json\n",
    "import re\n",
    "import pandas as pd\n",
    "import geopandas as gpd\n",
    "import nltk\n",
    "pd.options.display.max_columns = 1000 # to see all columns\n",
    "import warnings\n",
    "warnings.filterwarnings('ignore')"
   ]
  },
  {
   "cell_type": "markdown",
   "metadata": {},
   "source": [
    "# Loading datasets"
   ]
  },
  {
   "cell_type": "code",
   "execution_count": 31,
   "metadata": {},
   "outputs": [],
   "source": [
    "LIRE = gpd.read_file(\"https://zenodo.org/record/5074774/files/LIREg.geojson?download=1\", driver=\"GeoJSON\")"
   ]
  },
  {
   "cell_type": "code",
   "execution_count": 32,
   "metadata": {},
   "outputs": [
    {
     "data": {
      "text/plain": [
       "(137305, 112)"
      ]
     },
     "execution_count": 32,
     "metadata": {},
     "output_type": "execute_result"
    }
   ],
   "source": [
    "LIRE.shape"
   ]
  },
  {
   "cell_type": "markdown",
   "metadata": {},
   "source": [
    "# Function to extract occupations"
   ]
  },
  {
   "cell_type": "code",
   "execution_count": 33,
   "metadata": {},
   "outputs": [
    {
     "data": {
      "text/html": [
       "<div>\n",
       "<style scoped>\n",
       "    .dataframe tbody tr th:only-of-type {\n",
       "        vertical-align: middle;\n",
       "    }\n",
       "\n",
       "    .dataframe tbody tr th {\n",
       "        vertical-align: top;\n",
       "    }\n",
       "\n",
       "    .dataframe thead th {\n",
       "        text-align: right;\n",
       "    }\n",
       "</style>\n",
       "<table border=\"1\" class=\"dataframe\">\n",
       "  <thead>\n",
       "    <tr style=\"text-align: right;\">\n",
       "      <th></th>\n",
       "      <th>index</th>\n",
       "      <th>nom_sg</th>\n",
       "      <th>gen_sg</th>\n",
       "      <th>dat_sg</th>\n",
       "      <th>acc_sg</th>\n",
       "      <th>abl_sg</th>\n",
       "      <th>voc_sg</th>\n",
       "      <th>special_suffix1</th>\n",
       "      <th>special_suffix2</th>\n",
       "      <th>special_suffix3</th>\n",
       "    </tr>\n",
       "  </thead>\n",
       "  <tbody>\n",
       "    <tr>\n",
       "      <th>0</th>\n",
       "      <td>Asclepius</td>\n",
       "      <td>Asclepii</td>\n",
       "      <td>Asclepio</td>\n",
       "      <td>Asclepium</td>\n",
       "      <td>Asclepio</td>\n",
       "      <td>Asclepie</td>\n",
       "      <td>NaN</td>\n",
       "      <td>NaN</td>\n",
       "      <td>NaN</td>\n",
       "      <td>NaN</td>\n",
       "    </tr>\n",
       "    <tr>\n",
       "      <th>1</th>\n",
       "      <td>Aesculapius</td>\n",
       "      <td>Aesculapii</td>\n",
       "      <td>Aesculapio</td>\n",
       "      <td>Aesculapium</td>\n",
       "      <td>Aesculapio</td>\n",
       "      <td>Aesculapie</td>\n",
       "      <td>Aesculapi</td>\n",
       "      <td>Aesculapem</td>\n",
       "      <td>Aesculapeo</td>\n",
       "      <td>NaN</td>\n",
       "    </tr>\n",
       "    <tr>\n",
       "      <th>2</th>\n",
       "      <td>Esculapius</td>\n",
       "      <td>Esculapii</td>\n",
       "      <td>Esculapio</td>\n",
       "      <td>Esculapium</td>\n",
       "      <td>Esculapio</td>\n",
       "      <td>Esculapie</td>\n",
       "      <td>NaN</td>\n",
       "      <td>NaN</td>\n",
       "      <td>NaN</td>\n",
       "      <td>NaN</td>\n",
       "    </tr>\n",
       "    <tr>\n",
       "      <th>3</th>\n",
       "      <td>Asclepios</td>\n",
       "      <td>Asclepii</td>\n",
       "      <td>Asclepio</td>\n",
       "      <td>Asclepium</td>\n",
       "      <td>Asclepio</td>\n",
       "      <td>Asclepie</td>\n",
       "      <td>NaN</td>\n",
       "      <td>NaN</td>\n",
       "      <td>NaN</td>\n",
       "      <td>NaN</td>\n",
       "    </tr>\n",
       "    <tr>\n",
       "      <th>4</th>\n",
       "      <td>Apollo</td>\n",
       "      <td>Apollonis</td>\n",
       "      <td>Apolloni</td>\n",
       "      <td>Apollonem</td>\n",
       "      <td>Apollone</td>\n",
       "      <td>Apollo</td>\n",
       "      <td>NaN</td>\n",
       "      <td>NaN</td>\n",
       "      <td>NaN</td>\n",
       "      <td>NaN</td>\n",
       "    </tr>\n",
       "    <tr>\n",
       "      <th>5</th>\n",
       "      <td>Apollon</td>\n",
       "      <td>Apollonis</td>\n",
       "      <td>Apolloni</td>\n",
       "      <td>Apollonem</td>\n",
       "      <td>Apollone</td>\n",
       "      <td>Apollon</td>\n",
       "      <td>NaN</td>\n",
       "      <td>NaN</td>\n",
       "      <td>NaN</td>\n",
       "      <td>NaN</td>\n",
       "    </tr>\n",
       "    <tr>\n",
       "      <th>6</th>\n",
       "      <td>Apolon</td>\n",
       "      <td>Apolonis</td>\n",
       "      <td>Apoloni</td>\n",
       "      <td>Apolonem</td>\n",
       "      <td>Apolone</td>\n",
       "      <td>Apolon</td>\n",
       "      <td>NaN</td>\n",
       "      <td>NaN</td>\n",
       "      <td>NaN</td>\n",
       "      <td>NaN</td>\n",
       "    </tr>\n",
       "    <tr>\n",
       "      <th>7</th>\n",
       "      <td>Apolin</td>\n",
       "      <td>Apolinis</td>\n",
       "      <td>Apolini</td>\n",
       "      <td>Apolinem</td>\n",
       "      <td>Apoline</td>\n",
       "      <td>Apolin</td>\n",
       "      <td>NaN</td>\n",
       "      <td>NaN</td>\n",
       "      <td>NaN</td>\n",
       "      <td>NaN</td>\n",
       "    </tr>\n",
       "    <tr>\n",
       "      <th>8</th>\n",
       "      <td>Apollin</td>\n",
       "      <td>Apollinis</td>\n",
       "      <td>Apollini</td>\n",
       "      <td>Apollinem</td>\n",
       "      <td>Apolline</td>\n",
       "      <td>Apollin</td>\n",
       "      <td>NaN</td>\n",
       "      <td>NaN</td>\n",
       "      <td>NaN</td>\n",
       "      <td>NaN</td>\n",
       "    </tr>\n",
       "    <tr>\n",
       "      <th>9</th>\n",
       "      <td>Iupiter Optimus Maximus</td>\n",
       "      <td>Iovis Optimi Maximi</td>\n",
       "      <td>Iovi Optimo Maximo</td>\n",
       "      <td>Iovem Optimum Maximum</td>\n",
       "      <td>Iove Optimo Maximo</td>\n",
       "      <td>Iupiter Optimus Maximus</td>\n",
       "      <td>NaN</td>\n",
       "      <td>NaN</td>\n",
       "      <td>NaN</td>\n",
       "      <td>NaN</td>\n",
       "    </tr>\n",
       "    <tr>\n",
       "      <th>10</th>\n",
       "      <td>Iuppiter Optimus Maximus</td>\n",
       "      <td>Iovis Optimi Maximi</td>\n",
       "      <td>Iovi Optimo Maximo</td>\n",
       "      <td>Iovem Optimum Maximum</td>\n",
       "      <td>Iove Optimo Maximo</td>\n",
       "      <td>Iuppiter Optimus Maximus</td>\n",
       "      <td>NaN</td>\n",
       "      <td>NaN</td>\n",
       "      <td>NaN</td>\n",
       "      <td>NaN</td>\n",
       "    </tr>\n",
       "    <tr>\n",
       "      <th>11</th>\n",
       "      <td>Jupiter Optimus Maximus</td>\n",
       "      <td>Iovis Optimi Maximi</td>\n",
       "      <td>Iovi Optimo Maximo</td>\n",
       "      <td>Iovem Optimum Maximum</td>\n",
       "      <td>Iove Optimo Maximo</td>\n",
       "      <td>Jupiter Optimus Maximus</td>\n",
       "      <td>NaN</td>\n",
       "      <td>NaN</td>\n",
       "      <td>NaN</td>\n",
       "      <td>NaN</td>\n",
       "    </tr>\n",
       "    <tr>\n",
       "      <th>12</th>\n",
       "      <td>Iovus Optimus Maximus</td>\n",
       "      <td>Iovis Optimi Maximi</td>\n",
       "      <td>Iovi Optimo Maximo</td>\n",
       "      <td>Iovem Optimum Maximum</td>\n",
       "      <td>Iove Optimo Maximo</td>\n",
       "      <td>Iovus Optimus Maximus</td>\n",
       "      <td>NaN</td>\n",
       "      <td>NaN</td>\n",
       "      <td>NaN</td>\n",
       "      <td>NaN</td>\n",
       "    </tr>\n",
       "  </tbody>\n",
       "</table>\n",
       "</div>"
      ],
      "text/plain": [
       "                       index               nom_sg              gen_sg  \\\n",
       "0                  Asclepius             Asclepii            Asclepio   \n",
       "1                Aesculapius           Aesculapii          Aesculapio   \n",
       "2                 Esculapius            Esculapii           Esculapio   \n",
       "3                  Asclepios             Asclepii            Asclepio   \n",
       "4                     Apollo            Apollonis            Apolloni   \n",
       "5                    Apollon            Apollonis            Apolloni   \n",
       "6                     Apolon             Apolonis             Apoloni   \n",
       "7                     Apolin             Apolinis             Apolini   \n",
       "8                    Apollin            Apollinis            Apollini   \n",
       "9    Iupiter Optimus Maximus  Iovis Optimi Maximi  Iovi Optimo Maximo   \n",
       "10  Iuppiter Optimus Maximus  Iovis Optimi Maximi  Iovi Optimo Maximo   \n",
       "11   Jupiter Optimus Maximus  Iovis Optimi Maximi  Iovi Optimo Maximo   \n",
       "12     Iovus Optimus Maximus  Iovis Optimi Maximi  Iovi Optimo Maximo   \n",
       "\n",
       "                   dat_sg              acc_sg                    abl_sg  \\\n",
       "0               Asclepium            Asclepio                  Asclepie   \n",
       "1             Aesculapium          Aesculapio                Aesculapie   \n",
       "2              Esculapium           Esculapio                 Esculapie   \n",
       "3               Asclepium            Asclepio                  Asclepie   \n",
       "4               Apollonem            Apollone                    Apollo   \n",
       "5               Apollonem            Apollone                   Apollon   \n",
       "6                Apolonem             Apolone                    Apolon   \n",
       "7                Apolinem             Apoline                    Apolin   \n",
       "8               Apollinem            Apolline                   Apollin   \n",
       "9   Iovem Optimum Maximum  Iove Optimo Maximo   Iupiter Optimus Maximus   \n",
       "10  Iovem Optimum Maximum  Iove Optimo Maximo  Iuppiter Optimus Maximus   \n",
       "11  Iovem Optimum Maximum  Iove Optimo Maximo   Jupiter Optimus Maximus   \n",
       "12  Iovem Optimum Maximum  Iove Optimo Maximo     Iovus Optimus Maximus   \n",
       "\n",
       "       voc_sg special_suffix1 special_suffix2  special_suffix3  \n",
       "0         NaN             NaN             NaN              NaN  \n",
       "1   Aesculapi      Aesculapem      Aesculapeo              NaN  \n",
       "2         NaN             NaN             NaN              NaN  \n",
       "3         NaN             NaN             NaN              NaN  \n",
       "4         NaN             NaN             NaN              NaN  \n",
       "5         NaN             NaN             NaN              NaN  \n",
       "6         NaN             NaN             NaN              NaN  \n",
       "7         NaN             NaN             NaN              NaN  \n",
       "8         NaN             NaN             NaN              NaN  \n",
       "9         NaN             NaN             NaN              NaN  \n",
       "10        NaN             NaN             NaN              NaN  \n",
       "11        NaN             NaN             NaN              NaN  \n",
       "12        NaN             NaN             NaN              NaN  "
      ]
     },
     "execution_count": 33,
     "metadata": {},
     "output_type": "execute_result"
    }
   ],
   "source": [
    "deities_csv = pd.read_csv(\"../data/deities_decline.csv\").reset_index()\n",
    "deities_csv"
   ]
  },
  {
   "cell_type": "code",
   "execution_count": 34,
   "metadata": {},
   "outputs": [],
   "source": [
    "deities_dict = {}\n",
    "\n",
    "asclep = []\n",
    "for n in range(4):\n",
    "    asclep.extend([el for el in deities_csv.loc[n].tolist() if isinstance(el, str)])\n",
    "deities_dict[\"asclep\"] = list(set(asclep))\n",
    "\n",
    "apollo = []\n",
    "for n in range(4,9):\n",
    "    apollo.extend([el for el in deities_csv.loc[n].tolist() if isinstance(el, str)])\n",
    "deities_dict[\"apollo\"] = list(set(apollo))\n",
    "\n",
    "jupiter = []\n",
    "for n in range(9,13):\n",
    "    jupiter.extend([el for el in deities_csv.loc[n].tolist() if isinstance(el, str)])\n",
    "deities_dict[\"jupiter\"] = list(set(jupiter))"
   ]
  },
  {
   "cell_type": "code",
   "execution_count": 35,
   "metadata": {},
   "outputs": [
    {
     "data": {
      "text/plain": [
       "['Apoloni',\n",
       " 'Apolin',\n",
       " 'Apolonis',\n",
       " 'Apolon',\n",
       " 'Apollinis',\n",
       " 'Apolini',\n",
       " 'Apoline',\n",
       " 'Apolonem',\n",
       " 'Apolinem',\n",
       " 'Apolloni',\n",
       " 'Apolinis',\n",
       " 'Apollone',\n",
       " 'Apollin',\n",
       " 'Apollini',\n",
       " 'Apollo',\n",
       " 'Apollonem',\n",
       " 'Apollonis',\n",
       " 'Apollon',\n",
       " 'Apolline',\n",
       " 'Apollinem',\n",
       " 'Apolone']"
      ]
     },
     "execution_count": 35,
     "metadata": {},
     "output_type": "execute_result"
    }
   ],
   "source": [
    "deities_dict[\"apollo\"]"
   ]
  },
  {
   "cell_type": "code",
   "execution_count": 36,
   "metadata": {},
   "outputs": [],
   "source": [
    "def eval_list(people_list):\n",
    "    try: return eval(people_list)\n",
    "    except: return []\n",
    "LIRE[\"people\"] = LIRE[\"people\"].apply(eval_list)"
   ]
  },
  {
   "cell_type": "code",
   "execution_count": 37,
   "metadata": {},
   "outputs": [
    {
     "data": {
      "text/plain": [
       "361"
      ]
     },
     "execution_count": 37,
     "metadata": {},
     "output_type": "execute_result"
    }
   ],
   "source": [
    "def test_extract(text):\n",
    "    try:\n",
    "        if re.search(\"(\\W|^)Apollini(\\W|$)\", text):\n",
    "            return True\n",
    "        else:\n",
    "            return False\n",
    "    except:\n",
    "        return False\n",
    "len(LIRE[LIRE[\"clean_text_interpretive_word\"].apply(test_extract)])"
   ]
  },
  {
   "cell_type": "code",
   "execution_count": 38,
   "metadata": {},
   "outputs": [],
   "source": [
    "def extract_deity(inscription_text, deity):\n",
    "    if not isinstance(inscription_text, str): # if not valid string\n",
    "        inscription_text = \"\"\n",
    "    to_return = False\n",
    "    for deity_morph in deities_dict[deity]:\n",
    "        if deity_morph in inscription_text: # first check it this way, otherwise skip\n",
    "            if re.search(\"(\\W|^)\" + deity_morph + \"(\\W|$)\", inscription_text):\n",
    "                to_return = True\n",
    "                break\n",
    "    return to_return"
   ]
  },
  {
   "cell_type": "code",
   "execution_count": 39,
   "metadata": {},
   "outputs": [],
   "source": [
    "LIRE[\"asclepius\"] = LIRE[\"clean_text_interpretive_word\"].apply(extract_deity, deity=\"asclep\")\n",
    "LIRE[\"apollo\"] = LIRE[\"clean_text_interpretive_word\"].apply(extract_deity, deity=\"apollo\")\n",
    "LIRE[\"jupiter\"] = LIRE[\"clean_text_interpretive_word\"].apply(extract_deity, deity=\"jupiter\")"
   ]
  },
  {
   "cell_type": "code",
   "execution_count": 40,
   "metadata": {},
   "outputs": [
    {
     "name": "stdout",
     "output_type": "stream",
     "text": [
      "238\n",
      "495\n",
      "2868\n"
     ]
    }
   ],
   "source": [
    "print(len(LIRE[LIRE[\"asclepius\"]]))\n",
    "print(len(LIRE[LIRE[\"apollo\"]]))\n",
    "print(len(LIRE[LIRE[\"jupiter\"]]))"
   ]
  },
  {
   "cell_type": "markdown",
   "metadata": {},
   "source": [
    "ok, it is not bad, previously we had 156, 306, and 2598 in EDH and 90, 205, and 391 in EDCS."
   ]
  },
  {
   "cell_type": "code",
   "execution_count": 41,
   "metadata": {},
   "outputs": [],
   "source": [
    "# however, we have to check the people attribute...\n",
    "\n",
    "def check_name_in_people(people_list, name):\n",
    "    try: return any([el for el in people_list if re.search(\"(\\W|^){0}(\\W|$)\".format(name), el[\"nomen\"]) or re.search(\"(\\W|^){0}(\\W|$)\".format(name), el[\"cognomen\"])])\n",
    "    except: False\n",
    "\n",
    "name = \"Asclepius\"\n",
    "LIRE[\"asclepius_people\"] = LIRE[\"people\"].apply(lambda x: check_name_in_people(x, name))\n",
    "name = \"Apollo\"\n",
    "LIRE[\"apollo_people\"] = LIRE[\"people\"].apply(lambda x: check_name_in_people(x, name))"
   ]
  },
  {
   "cell_type": "code",
   "execution_count": 42,
   "metadata": {},
   "outputs": [],
   "source": [
    "def check_people(deity , people_deity):\n",
    "    if deity: \n",
    "        if people_deity:\n",
    "            return False\n",
    "        else:\n",
    "            return True\n",
    "    else:\n",
    "        return False\n",
    "\n",
    "LIRE[\"asclepius\"] = LIRE.apply(lambda row: check_people(row[\"asclepius\"], row[\"asclepius_people\"]), axis=1)\n",
    "LIRE[\"apollo\"] = LIRE.apply(lambda row: check_people(row[\"apollo\"], row[\"apollo_people\"]), axis=1)"
   ]
  },
  {
   "cell_type": "code",
   "execution_count": 43,
   "metadata": {},
   "outputs": [
    {
     "data": {
      "text/plain": [
       "230"
      ]
     },
     "execution_count": 43,
     "metadata": {},
     "output_type": "execute_result"
    }
   ],
   "source": [
    "len(LIRE[LIRE[\"asclepius\"]])"
   ]
  },
  {
   "cell_type": "code",
   "execution_count": 44,
   "metadata": {},
   "outputs": [
    {
     "data": {
      "text/plain": [
       "491"
      ]
     },
     "execution_count": 44,
     "metadata": {},
     "output_type": "execute_result"
    }
   ],
   "source": [
    "len(LIRE[LIRE[\"apollo\"]])"
   ]
  },
  {
   "cell_type": "code",
   "execution_count": 45,
   "metadata": {},
   "outputs": [
    {
     "name": "stdout",
     "output_type": "stream",
     "text": [
      "230\n",
      "491\n",
      "2868\n"
     ]
    }
   ],
   "source": [
    "print(len(LIRE[LIRE[\"asclepius\"]]))\n",
    "print(len(LIRE[LIRE[\"apollo\"]]))\n",
    "print(len(LIRE[LIRE[\"jupiter\"]]))"
   ]
  },
  {
   "cell_type": "code",
   "execution_count": 46,
   "metadata": {},
   "outputs": [],
   "source": [
    "LIRE.drop([\"asclepius_people\", \"apollo_people\"], axis=1, inplace=True)"
   ]
  },
  {
   "cell_type": "code",
   "execution_count": 47,
   "metadata": {},
   "outputs": [],
   "source": [
    "def list_to_str(people_list):\n",
    "    try: return str(people_list)\n",
    "    except: return \"\"\n",
    "LIRE[\"people\"] = LIRE[\"people\"].apply(list_to_str)"
   ]
  },
  {
   "cell_type": "code",
   "execution_count": 48,
   "metadata": {},
   "outputs": [],
   "source": [
    "LIRE.to_file(\"../data/large_files/LIRE_deities.geojson\", driver=\"GeoJSON\")"
   ]
  },
  {
   "cell_type": "markdown",
   "metadata": {},
   "source": [
    "# Minor explorations"
   ]
  },
  {
   "cell_type": "code",
   "execution_count": 49,
   "metadata": {},
   "outputs": [
    {
     "data": {
      "text/plain": [
       "{'building/dedicatory inscription': 10,\n",
       " 'defixio': 1,\n",
       " 'epitaph': 21,\n",
       " 'honorific inscription': 2,\n",
       " 'owner/artist inscription': 1,\n",
       " 'votive inscription': 179}"
      ]
     },
     "execution_count": 49,
     "metadata": {},
     "output_type": "execute_result"
    }
   ],
   "source": [
    "dict(LIRE[LIRE[\"asclepius\"]].groupby(\"type_of_inscription_auto\").size())"
   ]
  },
  {
   "cell_type": "code",
   "execution_count": 50,
   "metadata": {},
   "outputs": [],
   "source": [
    "deities_inscr_types = [dict(LIRE[LIRE[\"asclepius\"]].groupby(\"type_of_inscription_auto\").size()),\n",
    "dict(LIRE[LIRE[\"apollo\"]].groupby(\"type_of_inscription_auto\").size()),\n",
    "dict(LIRE[LIRE[\"jupiter\"]].groupby(\"type_of_inscription_auto\").size())]"
   ]
  },
  {
   "cell_type": "code",
   "execution_count": 51,
   "metadata": {},
   "outputs": [
    {
     "data": {
      "text/html": [
       "<div>\n",
       "<style scoped>\n",
       "    .dataframe tbody tr th:only-of-type {\n",
       "        vertical-align: middle;\n",
       "    }\n",
       "\n",
       "    .dataframe tbody tr th {\n",
       "        vertical-align: top;\n",
       "    }\n",
       "\n",
       "    .dataframe thead th {\n",
       "        text-align: right;\n",
       "    }\n",
       "</style>\n",
       "<table border=\"1\" class=\"dataframe\">\n",
       "  <thead>\n",
       "    <tr style=\"text-align: right;\">\n",
       "      <th></th>\n",
       "      <th>building/dedicatory inscription</th>\n",
       "      <th>defixio</th>\n",
       "      <th>epitaph</th>\n",
       "      <th>honorific inscription</th>\n",
       "      <th>owner/artist inscription</th>\n",
       "      <th>votive inscription</th>\n",
       "      <th>acclamation</th>\n",
       "      <th>label</th>\n",
       "      <th>list</th>\n",
       "      <th>military diploma</th>\n",
       "      <th>public legal inscription</th>\n",
       "      <th>mile-/leaguestone</th>\n",
       "    </tr>\n",
       "  </thead>\n",
       "  <tbody>\n",
       "    <tr>\n",
       "      <th>asclepius</th>\n",
       "      <td>10</td>\n",
       "      <td>1.0</td>\n",
       "      <td>21</td>\n",
       "      <td>2</td>\n",
       "      <td>1</td>\n",
       "      <td>179</td>\n",
       "      <td>NaN</td>\n",
       "      <td>NaN</td>\n",
       "      <td>NaN</td>\n",
       "      <td>NaN</td>\n",
       "      <td>NaN</td>\n",
       "      <td>NaN</td>\n",
       "    </tr>\n",
       "    <tr>\n",
       "      <th>apollo</th>\n",
       "      <td>12</td>\n",
       "      <td>NaN</td>\n",
       "      <td>46</td>\n",
       "      <td>12</td>\n",
       "      <td>2</td>\n",
       "      <td>355</td>\n",
       "      <td>1.0</td>\n",
       "      <td>2.0</td>\n",
       "      <td>2.0</td>\n",
       "      <td>1.0</td>\n",
       "      <td>6.0</td>\n",
       "      <td>NaN</td>\n",
       "    </tr>\n",
       "    <tr>\n",
       "      <th>jupiter</th>\n",
       "      <td>47</td>\n",
       "      <td>1.0</td>\n",
       "      <td>3</td>\n",
       "      <td>6</td>\n",
       "      <td>1</td>\n",
       "      <td>2756</td>\n",
       "      <td>NaN</td>\n",
       "      <td>1.0</td>\n",
       "      <td>1.0</td>\n",
       "      <td>1.0</td>\n",
       "      <td>1.0</td>\n",
       "      <td>1.0</td>\n",
       "    </tr>\n",
       "  </tbody>\n",
       "</table>\n",
       "</div>"
      ],
      "text/plain": [
       "           building/dedicatory inscription  defixio  epitaph  \\\n",
       "asclepius                               10      1.0       21   \n",
       "apollo                                  12      NaN       46   \n",
       "jupiter                                 47      1.0        3   \n",
       "\n",
       "           honorific inscription  owner/artist inscription  \\\n",
       "asclepius                      2                         1   \n",
       "apollo                        12                         2   \n",
       "jupiter                        6                         1   \n",
       "\n",
       "           votive inscription  acclamation  label  list  military diploma  \\\n",
       "asclepius                 179          NaN    NaN   NaN               NaN   \n",
       "apollo                    355          1.0    2.0   2.0               1.0   \n",
       "jupiter                  2756          NaN    1.0   1.0               1.0   \n",
       "\n",
       "           public legal inscription  mile-/leaguestone  \n",
       "asclepius                       NaN                NaN  \n",
       "apollo                          6.0                NaN  \n",
       "jupiter                         1.0                1.0  "
      ]
     },
     "execution_count": 51,
     "metadata": {},
     "output_type": "execute_result"
    }
   ],
   "source": [
    "deities_inscr_types_df = pd.DataFrame(deities_inscr_types)\n",
    "deities_inscr_types_df.index = [\"asclepius\", \"apollo\", \"jupiter\"]\n",
    "deities_inscr_types_df"
   ]
  }
 ],
 "metadata": {
  "colab": {
   "authorship_tag": "ABX9TyOKWnvxv3tTbNERCRAysPtc",
   "include_colab_link": true,
   "name": "WORKING_WITH_CLEANED_TEXTS.ipynb",
   "provenance": []
  },
  "hide_input": false,
  "kernelspec": {
   "display_name": "ascnet_venv",
   "language": "python",
   "name": "ascnet_venv"
  },
  "language_info": {
   "codemirror_mode": {
    "name": "ipython",
    "version": 3
   },
   "file_extension": ".py",
   "mimetype": "text/x-python",
   "name": "python",
   "nbconvert_exporter": "python",
   "pygments_lexer": "ipython3",
   "version": "3.6.9"
  },
  "toc": {
   "base_numbering": 1,
   "nav_menu": {},
   "number_sections": true,
   "sideBar": true,
   "skip_h1_title": false,
   "title_cell": "Table of Contents",
   "title_sidebar": "Contents",
   "toc_cell": false,
   "toc_position": {},
   "toc_section_display": true,
   "toc_window_display": false
  },
  "varInspector": {
   "cols": {
    "lenName": 16,
    "lenType": 16,
    "lenVar": 40
   },
   "kernels_config": {
    "python": {
     "delete_cmd_postfix": "",
     "delete_cmd_prefix": "del ",
     "library": "var_list.py",
     "varRefreshCmd": "print(var_dic_list())"
    },
    "r": {
     "delete_cmd_postfix": ") ",
     "delete_cmd_prefix": "rm(",
     "library": "var_list.r",
     "varRefreshCmd": "cat(var_dic_list()) "
    }
   },
   "types_to_exclude": [
    "module",
    "function",
    "builtin_function_or_method",
    "instance",
    "_Feature"
   ],
   "window_display": false
  }
 },
 "nbformat": 4,
 "nbformat_minor": 1
}

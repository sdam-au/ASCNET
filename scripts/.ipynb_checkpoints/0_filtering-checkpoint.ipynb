{
 "cells": [
  {
   "cell_type": "markdown",
   "metadata": {},
   "source": [
    "# Requirements"
   ]
  },
  {
   "cell_type": "code",
   "execution_count": 1,
   "metadata": {},
   "outputs": [],
   "source": [
    "import sddk\n",
    "import pandas as pd\n",
    "pd.options.display.max_columns = 1000 # to see all columns\n",
    "import json\n",
    "import geopandas as gpd\n",
    "import warnings\n",
    "from shapely.geometry import Point\n",
    "from functools import partial\n",
    "from shapely.ops import transform\n",
    "import pyproj\n",
    "warnings.filterwarnings('ignore')\n",
    "import numpy as np\n",
    "from scipy.spatial import cKDTree\n",
    "from shapely.geometry import Point"
   ]
  },
  {
   "cell_type": "markdown",
   "metadata": {},
   "source": [
    "# Import datasets"
   ]
  },
  {
   "cell_type": "code",
   "execution_count": 2,
   "metadata": {},
   "outputs": [
    {
     "name": "stdout",
     "output_type": "stream",
     "text": [
      "reading file located in a public folder\n"
     ]
    },
    {
     "data": {
      "text/html": [
       "<div>\n",
       "<style scoped>\n",
       "    .dataframe tbody tr th:only-of-type {\n",
       "        vertical-align: middle;\n",
       "    }\n",
       "\n",
       "    .dataframe tbody tr th {\n",
       "        vertical-align: top;\n",
       "    }\n",
       "\n",
       "    .dataframe thead th {\n",
       "        text-align: right;\n",
       "    }\n",
       "</style>\n",
       "<table border=\"1\" class=\"dataframe\">\n",
       "  <thead>\n",
       "    <tr style=\"text-align: right;\">\n",
       "      <th></th>\n",
       "      <th>responsible_individual</th>\n",
       "      <th>type_of_inscription</th>\n",
       "      <th>letter_size</th>\n",
       "      <th>not_after</th>\n",
       "      <th>literature</th>\n",
       "      <th>work_status</th>\n",
       "      <th>height</th>\n",
       "      <th>diplomatic_text</th>\n",
       "      <th>people</th>\n",
       "      <th>depth</th>\n",
       "      <th>material</th>\n",
       "      <th>type_of_monument</th>\n",
       "      <th>province_label</th>\n",
       "      <th>width</th>\n",
       "      <th>transcription</th>\n",
       "      <th>country</th>\n",
       "      <th>uri</th>\n",
       "      <th>findspot_ancient</th>\n",
       "      <th>last_update</th>\n",
       "      <th>modern_region</th>\n",
       "      <th>findspot_modern</th>\n",
       "      <th>language</th>\n",
       "      <th>id</th>\n",
       "      <th>edh_geography_uri</th>\n",
       "      <th>commentary</th>\n",
       "      <th>trismegistos_uri</th>\n",
       "      <th>not_before</th>\n",
       "      <th>external_image_uris</th>\n",
       "      <th>fotos</th>\n",
       "      <th>coordinates</th>\n",
       "      <th>idno_tm</th>\n",
       "      <th>placenames_refs</th>\n",
       "      <th>text_edition</th>\n",
       "      <th>origdate_text</th>\n",
       "      <th>layout_execution</th>\n",
       "      <th>layout_execution_text</th>\n",
       "      <th>support_objecttype</th>\n",
       "      <th>support_objecttype_text</th>\n",
       "      <th>support_material</th>\n",
       "      <th>support_material_text</th>\n",
       "      <th>support_decoration</th>\n",
       "      <th>keywords_term</th>\n",
       "      <th>keywords_term_text</th>\n",
       "      <th>type_of_inscription_clean</th>\n",
       "      <th>type_of_inscription_certainty</th>\n",
       "      <th>height_cm</th>\n",
       "      <th>width_cm</th>\n",
       "      <th>depth_cm</th>\n",
       "      <th>material_clean</th>\n",
       "      <th>type_of_monument_clean</th>\n",
       "      <th>type_of_monument_certainty</th>\n",
       "      <th>province_label_clean</th>\n",
       "      <th>province_label_certainty</th>\n",
       "      <th>country_clean</th>\n",
       "      <th>country_certainty</th>\n",
       "      <th>findspot_ancient_clean</th>\n",
       "      <th>findspot_ancient_certainty</th>\n",
       "      <th>modern_region_clean</th>\n",
       "      <th>modern_region_certainty</th>\n",
       "      <th>findspot_modern_clean</th>\n",
       "      <th>findspot_modern_certainty</th>\n",
       "      <th>findspot_clean</th>\n",
       "      <th>findspot_certainty</th>\n",
       "      <th>origdate_text_clean</th>\n",
       "      <th>clean_text_conservative</th>\n",
       "      <th>clean_text_interpretive_word</th>\n",
       "      <th>clean_text_interpretive_sentence</th>\n",
       "      <th>findspot</th>\n",
       "      <th>year_of_find</th>\n",
       "      <th>present_location</th>\n",
       "      <th>religion</th>\n",
       "      <th>geography</th>\n",
       "      <th>social_economic_legal_history</th>\n",
       "      <th>military</th>\n",
       "    </tr>\n",
       "  </thead>\n",
       "  <tbody>\n",
       "    <tr>\n",
       "      <th>0</th>\n",
       "      <td>Feraudi</td>\n",
       "      <td>epitaph</td>\n",
       "      <td>3.2-2 cm</td>\n",
       "      <td>0130</td>\n",
       "      <td>AE 1983, 0192.; M. Annecchino, Puteoli 4/5, 19...</td>\n",
       "      <td>provisional</td>\n",
       "      <td>33 cm</td>\n",
       "      <td>D M / NONIAE P F OPTATAE / ET C IVLIO ARTEMONI...</td>\n",
       "      <td>[{'name': 'Noniae P.f. Optatae', 'cognomen': '...</td>\n",
       "      <td>2.7 cm</td>\n",
       "      <td>Marmor, geädert / farbig</td>\n",
       "      <td>tabula</td>\n",
       "      <td>Latium et Campania (Regio I)</td>\n",
       "      <td>34 cm</td>\n",
       "      <td>D(is) M(anibus) / Noniae P(ubli) f(iliae) Opta...</td>\n",
       "      <td>Italy</td>\n",
       "      <td>https://edh-www.adw.uni-heidelberg.de/edh/insc...</td>\n",
       "      <td>Cumae, bei</td>\n",
       "      <td>2014-04-07</td>\n",
       "      <td>Campania</td>\n",
       "      <td>Cuma, bei</td>\n",
       "      <td>Latin</td>\n",
       "      <td>HD000001</td>\n",
       "      <td>https://edh-www.adw.uni-heidelberg.de/edh/geog...</td>\n",
       "      <td>(C): 2. Hälfte 1. - Anfang 2. Jh. - AE; Ende ...</td>\n",
       "      <td>https://www.trismegistos.org/text/251193</td>\n",
       "      <td>0071</td>\n",
       "      <td>{}</td>\n",
       "      <td>{}</td>\n",
       "      <td>[14.0551, 40.8472]</td>\n",
       "      <td>251193</td>\n",
       "      <td>[http://www.trismegistos.org/place/033152, htt...</td>\n",
       "      <td>Dis Manibus Noniae Publi filiae Optatae et Cai...</td>\n",
       "      <td>71 AD – 130 AD</td>\n",
       "      <td>21</td>\n",
       "      <td>unbestimmt</td>\n",
       "      <td>257</td>\n",
       "      <td>Tafel</td>\n",
       "      <td></td>\n",
       "      <td>Marmor, geädert / farbig</td>\n",
       "      <td>1000</td>\n",
       "      <td>92</td>\n",
       "      <td>Grabinschrift</td>\n",
       "      <td>epitaph</td>\n",
       "      <td>Certain</td>\n",
       "      <td>33.0</td>\n",
       "      <td>34.0</td>\n",
       "      <td>2.7</td>\n",
       "      <td>Marble</td>\n",
       "      <td>tabula</td>\n",
       "      <td>Certain</td>\n",
       "      <td>Latium et Campania (Regio I)</td>\n",
       "      <td>Certain</td>\n",
       "      <td>Italy</td>\n",
       "      <td>Certain</td>\n",
       "      <td>Cumae</td>\n",
       "      <td>Estimated</td>\n",
       "      <td>Campania</td>\n",
       "      <td>Certain</td>\n",
       "      <td>Cuma, bei</td>\n",
       "      <td>Certain</td>\n",
       "      <td>NULL</td>\n",
       "      <td>NULL</td>\n",
       "      <td>71 AD – 130 AD</td>\n",
       "      <td>D M Noniae P f Optatae et C Iulio Artemoni par...</td>\n",
       "      <td>Dis Manibus Noniae Publi filiae Optatae et Cai...</td>\n",
       "      <td>Dis Manibus Noniae Publi filiae Optatae et Cai...</td>\n",
       "      <td>NaN</td>\n",
       "      <td>NaN</td>\n",
       "      <td>NaN</td>\n",
       "      <td>NaN</td>\n",
       "      <td>NaN</td>\n",
       "      <td>NaN</td>\n",
       "      <td>NaN</td>\n",
       "    </tr>\n",
       "    <tr>\n",
       "      <th>1</th>\n",
       "      <td>Feraudi</td>\n",
       "      <td>epitaph</td>\n",
       "      <td>4 cm</td>\n",
       "      <td>0200</td>\n",
       "      <td>AE 1983, 0080. (A); A. Ferrua, RAL 36, 1981, 1...</td>\n",
       "      <td>no image</td>\n",
       "      <td>28 cm</td>\n",
       "      <td>C SEXTIVS PARIS / QVI VIXIT / ANNIS LXX</td>\n",
       "      <td>[{'nomen': 'Sextius', 'praenomen': 'C.', 'pers...</td>\n",
       "      <td>NaN</td>\n",
       "      <td>marble: rocks - metamorphic rocks</td>\n",
       "      <td>tabula</td>\n",
       "      <td>Roma</td>\n",
       "      <td>85 cm</td>\n",
       "      <td>C(aius) Sextius Paris / qui vixit / annis LXX</td>\n",
       "      <td>Italy</td>\n",
       "      <td>https://edh-www.adw.uni-heidelberg.de/edh/insc...</td>\n",
       "      <td>Roma</td>\n",
       "      <td>2014-04-07</td>\n",
       "      <td>Lazio</td>\n",
       "      <td>Roma</td>\n",
       "      <td>Latin</td>\n",
       "      <td>HD000002</td>\n",
       "      <td>https://edh-www.adw.uni-heidelberg.de/edh/geog...</td>\n",
       "      <td>AE 1983: Breite: 35 cm.</td>\n",
       "      <td>https://www.trismegistos.org/text/265631</td>\n",
       "      <td>0051</td>\n",
       "      <td>{}</td>\n",
       "      <td>{}</td>\n",
       "      <td>[12.4823, 41.8955]</td>\n",
       "      <td>265631</td>\n",
       "      <td>[http://www.trismegistos.org/place/000172, htt...</td>\n",
       "      <td>Caius Sextius Paris qui vixit annis LXX       ...</td>\n",
       "      <td>51 AD – 200 AD</td>\n",
       "      <td>21</td>\n",
       "      <td>unbestimmt</td>\n",
       "      <td>257</td>\n",
       "      <td>Tafel</td>\n",
       "      <td>48</td>\n",
       "      <td>Marmor</td>\n",
       "      <td>1000</td>\n",
       "      <td>92</td>\n",
       "      <td>Grabinschrift</td>\n",
       "      <td>epitaph</td>\n",
       "      <td>Certain</td>\n",
       "      <td>28.0</td>\n",
       "      <td>85.0</td>\n",
       "      <td>NaN</td>\n",
       "      <td>Marble</td>\n",
       "      <td>tabula</td>\n",
       "      <td>Certain</td>\n",
       "      <td>Roma</td>\n",
       "      <td>Certain</td>\n",
       "      <td>Italy</td>\n",
       "      <td>Certain</td>\n",
       "      <td>Roma</td>\n",
       "      <td>Certain</td>\n",
       "      <td>Lazio</td>\n",
       "      <td>Certain</td>\n",
       "      <td>Roma</td>\n",
       "      <td>Certain</td>\n",
       "      <td>Via Nomentana, S. Alessandro, Kirche</td>\n",
       "      <td>Certain</td>\n",
       "      <td>51 AD – 200 AD</td>\n",
       "      <td>C Sextius Paris qui vixit annis LXX</td>\n",
       "      <td>Caius Sextius Paris qui vixit annis LXX</td>\n",
       "      <td>Caius Sextius Paris qui vixit annis LXX</td>\n",
       "      <td>Via Nomentana, S. Alessandro, Kirche</td>\n",
       "      <td>1937</td>\n",
       "      <td>NaN</td>\n",
       "      <td>NaN</td>\n",
       "      <td>NaN</td>\n",
       "      <td>NaN</td>\n",
       "      <td>NaN</td>\n",
       "    </tr>\n",
       "    <tr>\n",
       "      <th>2</th>\n",
       "      <td>Feraudi</td>\n",
       "      <td>honorific inscription</td>\n",
       "      <td>4.5-3 cm</td>\n",
       "      <td>0170</td>\n",
       "      <td>AE 1983, 0518. (B); J. González, ZPE 52, 1983,...</td>\n",
       "      <td>provisional</td>\n",
       "      <td>(37) cm</td>\n",
       "      <td>[ ]VMMIO [ ] / [ ]ISENNA[ ] / [ ] XV[ ] / [ ] / [</td>\n",
       "      <td>[{'nomen': 'Mummius+', 'gender': 'male', 'prae...</td>\n",
       "      <td>(12) cm</td>\n",
       "      <td>marble: rocks - metamorphic rocks</td>\n",
       "      <td>statue base</td>\n",
       "      <td>Baetica</td>\n",
       "      <td>(34) cm</td>\n",
       "      <td>[P(ublio) M]ummio [P(ubli) f(ilio)] / [Gal(eri...</td>\n",
       "      <td>Spain</td>\n",
       "      <td>https://edh-www.adw.uni-heidelberg.de/edh/insc...</td>\n",
       "      <td>NaN</td>\n",
       "      <td>2006-08-31</td>\n",
       "      <td>Sevilla</td>\n",
       "      <td>Tomares</td>\n",
       "      <td>Latin</td>\n",
       "      <td>HD000003</td>\n",
       "      <td>https://edh-www.adw.uni-heidelberg.de/edh/geog...</td>\n",
       "      <td>(B): [S]isenna ist falscher Kasus; folgende E...</td>\n",
       "      <td>https://www.trismegistos.org/text/220675</td>\n",
       "      <td>0131</td>\n",
       "      <td>{}</td>\n",
       "      <td>{}</td>\n",
       "      <td>[-6.0459, 37.3728]</td>\n",
       "      <td>220675</td>\n",
       "      <td>[http://www.trismegistos.org/place/025443, htt...</td>\n",
       "      <td>Publio Mummio Publi filio Galeria Sisennae Rut...</td>\n",
       "      <td>131 AD – 170 AD</td>\n",
       "      <td>21</td>\n",
       "      <td>unbestimmt</td>\n",
       "      <td>57</td>\n",
       "      <td>Statuenbasis</td>\n",
       "      <td>48</td>\n",
       "      <td>Marmor</td>\n",
       "      <td>1000</td>\n",
       "      <td>69</td>\n",
       "      <td>Ehreninschrift</td>\n",
       "      <td>honorific inscription</td>\n",
       "      <td>Certain</td>\n",
       "      <td>37.0</td>\n",
       "      <td>34.0</td>\n",
       "      <td>12.0</td>\n",
       "      <td>Marble</td>\n",
       "      <td>statue base</td>\n",
       "      <td>Certain</td>\n",
       "      <td>Baetica</td>\n",
       "      <td>Certain</td>\n",
       "      <td>Spain</td>\n",
       "      <td>Certain</td>\n",
       "      <td>NULL</td>\n",
       "      <td>NULL</td>\n",
       "      <td>Sevilla</td>\n",
       "      <td>Certain</td>\n",
       "      <td>Tomares</td>\n",
       "      <td>Certain</td>\n",
       "      <td>NULL</td>\n",
       "      <td>NULL</td>\n",
       "      <td>131 AD – 170 AD</td>\n",
       "      <td>ummio isenna Xv</td>\n",
       "      <td>Publio Mummio Publi filio Galeria Sisennae Rut...</td>\n",
       "      <td>Publio Mummio Publi filio Galeria Sisennae Rut...</td>\n",
       "      <td>NaN</td>\n",
       "      <td>before 1975</td>\n",
       "      <td>Sevilla, Privatbesitz</td>\n",
       "      <td>NaN</td>\n",
       "      <td>NaN</td>\n",
       "      <td>NaN</td>\n",
       "      <td>NaN</td>\n",
       "    </tr>\n",
       "    <tr>\n",
       "      <th>3</th>\n",
       "      <td>Gräf</td>\n",
       "      <td>votive inscription</td>\n",
       "      <td>2.5 cm</td>\n",
       "      <td>0200</td>\n",
       "      <td>AE 1983, 0533. (B); A.U. Stylow, Gerión 1, 198...</td>\n",
       "      <td>checked with photo</td>\n",
       "      <td>(39) cm</td>\n",
       "      <td>[ ]AVS[ ]LLA / M PORCI NIGRI SER / DOMINAE VEN...</td>\n",
       "      <td>[{'name': '[---?]AV(?)S(?)[---]L(?)L(?)A M. Po...</td>\n",
       "      <td>18 cm</td>\n",
       "      <td>limestone: rocks - clastic sediments</td>\n",
       "      <td>altar</td>\n",
       "      <td>Baetica</td>\n",
       "      <td>27 cm</td>\n",
       "      <td>[---?]AV(?)S(?)[---]L(?)L(?)A / M(arci) Porci ...</td>\n",
       "      <td>Spain</td>\n",
       "      <td>https://edh-www.adw.uni-heidelberg.de/edh/insc...</td>\n",
       "      <td>Ipolcobulcula</td>\n",
       "      <td>2015-03-27</td>\n",
       "      <td>Córdoba</td>\n",
       "      <td>Carcabuey</td>\n",
       "      <td>Latin</td>\n",
       "      <td>HD000004</td>\n",
       "      <td>https://edh-www.adw.uni-heidelberg.de/edh/geog...</td>\n",
       "      <td>Material: lokaler grauer Kalkstein. (B): Styl...</td>\n",
       "      <td>https://www.trismegistos.org/text/222102</td>\n",
       "      <td>0151</td>\n",
       "      <td>http://cil-old.bbaw.de/test06/bilder/datenbank...</td>\n",
       "      <td>{}</td>\n",
       "      <td>[-4.2747, 37.4442]</td>\n",
       "      <td>222102</td>\n",
       "      <td>[http://www.trismegistos.org/place/025443, htt...</td>\n",
       "      <td>AVSLLA Marci Porci Nigri serva dominae Veneri ...</td>\n",
       "      <td>151 AD – 200 AD</td>\n",
       "      <td>21</td>\n",
       "      <td>unbestimmt</td>\n",
       "      <td>29</td>\n",
       "      <td>Altar</td>\n",
       "      <td>60</td>\n",
       "      <td>Kalkstein</td>\n",
       "      <td>1000</td>\n",
       "      <td>80</td>\n",
       "      <td>Weihinschrift</td>\n",
       "      <td>votive inscription</td>\n",
       "      <td>Certain</td>\n",
       "      <td>39.0</td>\n",
       "      <td>27.0</td>\n",
       "      <td>18.0</td>\n",
       "      <td>Limestone</td>\n",
       "      <td>altar</td>\n",
       "      <td>Certain</td>\n",
       "      <td>Baetica</td>\n",
       "      <td>Certain</td>\n",
       "      <td>Spain</td>\n",
       "      <td>Certain</td>\n",
       "      <td>Ipolcobulcula</td>\n",
       "      <td>Certain</td>\n",
       "      <td>Córdoba</td>\n",
       "      <td>Certain</td>\n",
       "      <td>Carcabuey</td>\n",
       "      <td>Certain</td>\n",
       "      <td>NULL</td>\n",
       "      <td>NULL</td>\n",
       "      <td>151 AD – 200 AD</td>\n",
       "      <td>AVSLLA M Porci Nigri ser dominae Veneri aram p...</td>\n",
       "      <td>AVS LLA Marci Porci Nigri serva dominae Veneri...</td>\n",
       "      <td>AVS LLA Marci Porci Nigri serva dominae Veneri...</td>\n",
       "      <td>NaN</td>\n",
       "      <td>before 1979</td>\n",
       "      <td>Carcabuey, Grupo Escolar</td>\n",
       "      <td>names of pagan deities</td>\n",
       "      <td>NaN</td>\n",
       "      <td>NaN</td>\n",
       "      <td>NaN</td>\n",
       "    </tr>\n",
       "    <tr>\n",
       "      <th>4</th>\n",
       "      <td>Feraudi</td>\n",
       "      <td>epitaph</td>\n",
       "      <td>NaN</td>\n",
       "      <td>0200</td>\n",
       "      <td>AE 1983, 0078. (B); A. Ferrua, RAL 36, 1981, 1...</td>\n",
       "      <td>no image</td>\n",
       "      <td>NaN</td>\n",
       "      <td>[ ] L SVCCESSVS / [ ] L L IRENAEVS / [ ] C L T...</td>\n",
       "      <td>[{'person_id': '1', 'name': '[---]l. Successus...</td>\n",
       "      <td>NaN</td>\n",
       "      <td>NaN</td>\n",
       "      <td>stele</td>\n",
       "      <td>Roma</td>\n",
       "      <td>NaN</td>\n",
       "      <td>[---] l(ibertus) Successus / [---] L(uci) l(ib...</td>\n",
       "      <td>Italy</td>\n",
       "      <td>https://edh-www.adw.uni-heidelberg.de/edh/insc...</td>\n",
       "      <td>Roma</td>\n",
       "      <td>2010-01-04</td>\n",
       "      <td>Lazio</td>\n",
       "      <td>Roma</td>\n",
       "      <td>Latin</td>\n",
       "      <td>HD000005</td>\n",
       "      <td>https://edh-www.adw.uni-heidelberg.de/edh/geog...</td>\n",
       "      <td>(B): Z. 3: C(ai) l(ibertae) Tyches.</td>\n",
       "      <td>https://www.trismegistos.org/text/265629</td>\n",
       "      <td>0001</td>\n",
       "      <td>{}</td>\n",
       "      <td>{}</td>\n",
       "      <td>[12.4823, 41.8955]</td>\n",
       "      <td>265629</td>\n",
       "      <td>[http://www.trismegistos.org/place/000172, htt...</td>\n",
       "      <td>libertus Successus  Luci libertus Irenaeus  C...</td>\n",
       "      <td>1 AD – 200 AD</td>\n",
       "      <td>21</td>\n",
       "      <td>unbestimmt</td>\n",
       "      <td>250</td>\n",
       "      <td>Stele</td>\n",
       "      <td>138</td>\n",
       "      <td>unbestimmt</td>\n",
       "      <td>1000</td>\n",
       "      <td>92</td>\n",
       "      <td>Grabinschrift</td>\n",
       "      <td>epitaph</td>\n",
       "      <td>Certain</td>\n",
       "      <td>NaN</td>\n",
       "      <td>NaN</td>\n",
       "      <td>NaN</td>\n",
       "      <td>NULL</td>\n",
       "      <td>stele</td>\n",
       "      <td>Certain</td>\n",
       "      <td>Roma</td>\n",
       "      <td>Certain</td>\n",
       "      <td>Italy</td>\n",
       "      <td>Certain</td>\n",
       "      <td>Roma</td>\n",
       "      <td>Certain</td>\n",
       "      <td>Lazio</td>\n",
       "      <td>Certain</td>\n",
       "      <td>Roma</td>\n",
       "      <td>Certain</td>\n",
       "      <td>Via Cupa (ehem. Vigna Nardi)</td>\n",
       "      <td>Certain</td>\n",
       "      <td>1 AD – 200 AD</td>\n",
       "      <td>l Successus L l Irenaeus C l Tyches unt renti f</td>\n",
       "      <td>libertus Successus Luci libertus Irenaeus Cai ...</td>\n",
       "      <td>libertus Successus Luci libertus Irenaeus Cai ...</td>\n",
       "      <td>Via Cupa (ehem. Vigna Nardi)</td>\n",
       "      <td>NaN</td>\n",
       "      <td>NaN</td>\n",
       "      <td>NaN</td>\n",
       "      <td>NaN</td>\n",
       "      <td>NaN</td>\n",
       "      <td>NaN</td>\n",
       "    </tr>\n",
       "  </tbody>\n",
       "</table>\n",
       "</div>"
      ],
      "text/plain": [
       "  responsible_individual    type_of_inscription letter_size not_after  \\\n",
       "0                Feraudi                epitaph    3.2-2 cm      0130   \n",
       "1                Feraudi                epitaph        4 cm      0200   \n",
       "2                Feraudi  honorific inscription    4.5-3 cm      0170   \n",
       "3                   Gräf     votive inscription      2.5 cm      0200   \n",
       "4                Feraudi                epitaph         NaN      0200   \n",
       "\n",
       "                                          literature         work_status  \\\n",
       "0  AE 1983, 0192.; M. Annecchino, Puteoli 4/5, 19...         provisional   \n",
       "1  AE 1983, 0080. (A); A. Ferrua, RAL 36, 1981, 1...            no image   \n",
       "2  AE 1983, 0518. (B); J. González, ZPE 52, 1983,...         provisional   \n",
       "3  AE 1983, 0533. (B); A.U. Stylow, Gerión 1, 198...  checked with photo   \n",
       "4  AE 1983, 0078. (B); A. Ferrua, RAL 36, 1981, 1...            no image   \n",
       "\n",
       "    height                                    diplomatic_text  \\\n",
       "0    33 cm  D M / NONIAE P F OPTATAE / ET C IVLIO ARTEMONI...   \n",
       "1    28 cm            C SEXTIVS PARIS / QVI VIXIT / ANNIS LXX   \n",
       "2  (37) cm  [ ]VMMIO [ ] / [ ]ISENNA[ ] / [ ] XV[ ] / [ ] / [   \n",
       "3  (39) cm  [ ]AVS[ ]LLA / M PORCI NIGRI SER / DOMINAE VEN...   \n",
       "4      NaN  [ ] L SVCCESSVS / [ ] L L IRENAEVS / [ ] C L T...   \n",
       "\n",
       "                                              people    depth  \\\n",
       "0  [{'name': 'Noniae P.f. Optatae', 'cognomen': '...   2.7 cm   \n",
       "1  [{'nomen': 'Sextius', 'praenomen': 'C.', 'pers...      NaN   \n",
       "2  [{'nomen': 'Mummius+', 'gender': 'male', 'prae...  (12) cm   \n",
       "3  [{'name': '[---?]AV(?)S(?)[---]L(?)L(?)A M. Po...    18 cm   \n",
       "4  [{'person_id': '1', 'name': '[---]l. Successus...      NaN   \n",
       "\n",
       "                               material type_of_monument  \\\n",
       "0              Marmor, geädert / farbig           tabula   \n",
       "1     marble: rocks - metamorphic rocks           tabula   \n",
       "2     marble: rocks - metamorphic rocks      statue base   \n",
       "3  limestone: rocks - clastic sediments            altar   \n",
       "4                                   NaN            stele   \n",
       "\n",
       "                 province_label    width  \\\n",
       "0  Latium et Campania (Regio I)    34 cm   \n",
       "1                          Roma    85 cm   \n",
       "2                       Baetica  (34) cm   \n",
       "3                       Baetica    27 cm   \n",
       "4                          Roma      NaN   \n",
       "\n",
       "                                       transcription country  \\\n",
       "0  D(is) M(anibus) / Noniae P(ubli) f(iliae) Opta...   Italy   \n",
       "1      C(aius) Sextius Paris / qui vixit / annis LXX   Italy   \n",
       "2  [P(ublio) M]ummio [P(ubli) f(ilio)] / [Gal(eri...   Spain   \n",
       "3  [---?]AV(?)S(?)[---]L(?)L(?)A / M(arci) Porci ...   Spain   \n",
       "4  [---] l(ibertus) Successus / [---] L(uci) l(ib...   Italy   \n",
       "\n",
       "                                                 uri findspot_ancient  \\\n",
       "0  https://edh-www.adw.uni-heidelberg.de/edh/insc...       Cumae, bei   \n",
       "1  https://edh-www.adw.uni-heidelberg.de/edh/insc...             Roma   \n",
       "2  https://edh-www.adw.uni-heidelberg.de/edh/insc...              NaN   \n",
       "3  https://edh-www.adw.uni-heidelberg.de/edh/insc...    Ipolcobulcula   \n",
       "4  https://edh-www.adw.uni-heidelberg.de/edh/insc...             Roma   \n",
       "\n",
       "  last_update modern_region findspot_modern language        id  \\\n",
       "0  2014-04-07      Campania       Cuma, bei    Latin  HD000001   \n",
       "1  2014-04-07         Lazio            Roma    Latin  HD000002   \n",
       "2  2006-08-31       Sevilla         Tomares    Latin  HD000003   \n",
       "3  2015-03-27       Córdoba       Carcabuey    Latin  HD000004   \n",
       "4  2010-01-04         Lazio            Roma    Latin  HD000005   \n",
       "\n",
       "                                   edh_geography_uri  \\\n",
       "0  https://edh-www.adw.uni-heidelberg.de/edh/geog...   \n",
       "1  https://edh-www.adw.uni-heidelberg.de/edh/geog...   \n",
       "2  https://edh-www.adw.uni-heidelberg.de/edh/geog...   \n",
       "3  https://edh-www.adw.uni-heidelberg.de/edh/geog...   \n",
       "4  https://edh-www.adw.uni-heidelberg.de/edh/geog...   \n",
       "\n",
       "                                          commentary  \\\n",
       "0   (C): 2. Hälfte 1. - Anfang 2. Jh. - AE; Ende ...   \n",
       "1                            AE 1983: Breite: 35 cm.   \n",
       "2   (B): [S]isenna ist falscher Kasus; folgende E...   \n",
       "3   Material: lokaler grauer Kalkstein. (B): Styl...   \n",
       "4                (B): Z. 3: C(ai) l(ibertae) Tyches.   \n",
       "\n",
       "                           trismegistos_uri not_before  \\\n",
       "0  https://www.trismegistos.org/text/251193       0071   \n",
       "1  https://www.trismegistos.org/text/265631       0051   \n",
       "2  https://www.trismegistos.org/text/220675       0131   \n",
       "3  https://www.trismegistos.org/text/222102       0151   \n",
       "4  https://www.trismegistos.org/text/265629       0001   \n",
       "\n",
       "                                 external_image_uris fotos  \\\n",
       "0                                                 {}    {}   \n",
       "1                                                 {}    {}   \n",
       "2                                                 {}    {}   \n",
       "3  http://cil-old.bbaw.de/test06/bilder/datenbank...    {}   \n",
       "4                                                 {}    {}   \n",
       "\n",
       "          coordinates idno_tm  \\\n",
       "0  [14.0551, 40.8472]  251193   \n",
       "1  [12.4823, 41.8955]  265631   \n",
       "2  [-6.0459, 37.3728]  220675   \n",
       "3  [-4.2747, 37.4442]  222102   \n",
       "4  [12.4823, 41.8955]  265629   \n",
       "\n",
       "                                     placenames_refs  \\\n",
       "0  [http://www.trismegistos.org/place/033152, htt...   \n",
       "1  [http://www.trismegistos.org/place/000172, htt...   \n",
       "2  [http://www.trismegistos.org/place/025443, htt...   \n",
       "3  [http://www.trismegistos.org/place/025443, htt...   \n",
       "4  [http://www.trismegistos.org/place/000172, htt...   \n",
       "\n",
       "                                        text_edition  \\\n",
       "0  Dis Manibus Noniae Publi filiae Optatae et Cai...   \n",
       "1  Caius Sextius Paris qui vixit annis LXX       ...   \n",
       "2  Publio Mummio Publi filio Galeria Sisennae Rut...   \n",
       "3  AVSLLA Marci Porci Nigri serva dominae Veneri ...   \n",
       "4   libertus Successus  Luci libertus Irenaeus  C...   \n",
       "\n",
       "                                 origdate_text layout_execution  \\\n",
       "0   71 AD – 130 AD                                           21   \n",
       "1   51 AD – 200 AD                                           21   \n",
       "2  131 AD – 170 AD                                           21   \n",
       "3  151 AD – 200 AD                                           21   \n",
       "4    1 AD – 200 AD                                           21   \n",
       "\n",
       "  layout_execution_text support_objecttype support_objecttype_text  \\\n",
       "0            unbestimmt                257                   Tafel   \n",
       "1            unbestimmt                257                   Tafel   \n",
       "2            unbestimmt                 57            Statuenbasis   \n",
       "3            unbestimmt                 29                   Altar   \n",
       "4            unbestimmt                250                   Stele   \n",
       "\n",
       "  support_material     support_material_text support_decoration keywords_term  \\\n",
       "0                   Marmor, geädert / farbig               1000            92   \n",
       "1               48                    Marmor               1000            92   \n",
       "2               48                    Marmor               1000            69   \n",
       "3               60                 Kalkstein               1000            80   \n",
       "4              138                unbestimmt               1000            92   \n",
       "\n",
       "  keywords_term_text type_of_inscription_clean type_of_inscription_certainty  \\\n",
       "0      Grabinschrift                   epitaph                       Certain   \n",
       "1      Grabinschrift                   epitaph                       Certain   \n",
       "2     Ehreninschrift     honorific inscription                       Certain   \n",
       "3      Weihinschrift        votive inscription                       Certain   \n",
       "4      Grabinschrift                   epitaph                       Certain   \n",
       "\n",
       "   height_cm  width_cm  depth_cm material_clean type_of_monument_clean  \\\n",
       "0       33.0      34.0       2.7         Marble                 tabula   \n",
       "1       28.0      85.0       NaN         Marble                 tabula   \n",
       "2       37.0      34.0      12.0         Marble            statue base   \n",
       "3       39.0      27.0      18.0      Limestone                  altar   \n",
       "4        NaN       NaN       NaN           NULL                  stele   \n",
       "\n",
       "  type_of_monument_certainty          province_label_clean  \\\n",
       "0                    Certain  Latium et Campania (Regio I)   \n",
       "1                    Certain                          Roma   \n",
       "2                    Certain                       Baetica   \n",
       "3                    Certain                       Baetica   \n",
       "4                    Certain                          Roma   \n",
       "\n",
       "  province_label_certainty country_clean country_certainty  \\\n",
       "0                  Certain         Italy           Certain   \n",
       "1                  Certain         Italy           Certain   \n",
       "2                  Certain         Spain           Certain   \n",
       "3                  Certain         Spain           Certain   \n",
       "4                  Certain         Italy           Certain   \n",
       "\n",
       "  findspot_ancient_clean findspot_ancient_certainty modern_region_clean  \\\n",
       "0                  Cumae                  Estimated            Campania   \n",
       "1                   Roma                    Certain               Lazio   \n",
       "2                   NULL                       NULL             Sevilla   \n",
       "3          Ipolcobulcula                    Certain             Córdoba   \n",
       "4                   Roma                    Certain               Lazio   \n",
       "\n",
       "  modern_region_certainty findspot_modern_clean findspot_modern_certainty  \\\n",
       "0                 Certain             Cuma, bei                   Certain   \n",
       "1                 Certain                  Roma                   Certain   \n",
       "2                 Certain               Tomares                   Certain   \n",
       "3                 Certain             Carcabuey                   Certain   \n",
       "4                 Certain                  Roma                   Certain   \n",
       "\n",
       "                         findspot_clean findspot_certainty  \\\n",
       "0                                  NULL               NULL   \n",
       "1  Via Nomentana, S. Alessandro, Kirche            Certain   \n",
       "2                                  NULL               NULL   \n",
       "3                                  NULL               NULL   \n",
       "4          Via Cupa (ehem. Vigna Nardi)            Certain   \n",
       "\n",
       "  origdate_text_clean                            clean_text_conservative  \\\n",
       "0      71 AD – 130 AD  D M Noniae P f Optatae et C Iulio Artemoni par...   \n",
       "1      51 AD – 200 AD                C Sextius Paris qui vixit annis LXX   \n",
       "2     131 AD – 170 AD                                    ummio isenna Xv   \n",
       "3     151 AD – 200 AD  AVSLLA M Porci Nigri ser dominae Veneri aram p...   \n",
       "4       1 AD – 200 AD    l Successus L l Irenaeus C l Tyches unt renti f   \n",
       "\n",
       "                        clean_text_interpretive_word  \\\n",
       "0  Dis Manibus Noniae Publi filiae Optatae et Cai...   \n",
       "1            Caius Sextius Paris qui vixit annis LXX   \n",
       "2  Publio Mummio Publi filio Galeria Sisennae Rut...   \n",
       "3  AVS LLA Marci Porci Nigri serva dominae Veneri...   \n",
       "4  libertus Successus Luci libertus Irenaeus Cai ...   \n",
       "\n",
       "                    clean_text_interpretive_sentence  \\\n",
       "0  Dis Manibus Noniae Publi filiae Optatae et Cai...   \n",
       "1            Caius Sextius Paris qui vixit annis LXX   \n",
       "2  Publio Mummio Publi filio Galeria Sisennae Rut...   \n",
       "3  AVS LLA Marci Porci Nigri serva dominae Veneri...   \n",
       "4  libertus Successus Luci libertus Irenaeus Cai ...   \n",
       "\n",
       "                               findspot year_of_find  \\\n",
       "0                                   NaN          NaN   \n",
       "1  Via Nomentana, S. Alessandro, Kirche         1937   \n",
       "2                                   NaN  before 1975   \n",
       "3                                   NaN  before 1979   \n",
       "4          Via Cupa (ehem. Vigna Nardi)          NaN   \n",
       "\n",
       "           present_location                religion geography  \\\n",
       "0                       NaN                     NaN       NaN   \n",
       "1                       NaN                     NaN       NaN   \n",
       "2     Sevilla, Privatbesitz                     NaN       NaN   \n",
       "3  Carcabuey, Grupo Escolar  names of pagan deities       NaN   \n",
       "4                       NaN                     NaN       NaN   \n",
       "\n",
       "  social_economic_legal_history military  \n",
       "0                           NaN      NaN  \n",
       "1                           NaN      NaN  \n",
       "2                           NaN      NaN  \n",
       "3                           NaN      NaN  \n",
       "4                           NaN      NaN  "
      ]
     },
     "execution_count": 2,
     "metadata": {},
     "output_type": "execute_result"
    }
   ],
   "source": [
    "# read edh dataset\n",
    "publicfolder = \"b6b6afdb969d378b70929e86e58ad975\"\n",
    "EDH = sddk.read_file(\"EDH_text_cleaned_2021-01-21.json\", \"df\", publicfolder)\n",
    "EDH.head(5)"
   ]
  },
  {
   "cell_type": "code",
   "execution_count": 3,
   "metadata": {},
   "outputs": [
    {
     "name": "stdout",
     "output_type": "stream",
     "text": [
      "reading file located in a public folder\n"
     ]
    },
    {
     "data": {
      "text/html": [
       "<div>\n",
       "<style scoped>\n",
       "    .dataframe tbody tr th:only-of-type {\n",
       "        vertical-align: middle;\n",
       "    }\n",
       "\n",
       "    .dataframe tbody tr th {\n",
       "        vertical-align: top;\n",
       "    }\n",
       "\n",
       "    .dataframe thead th {\n",
       "        text-align: right;\n",
       "    }\n",
       "</style>\n",
       "<table border=\"1\" class=\"dataframe\">\n",
       "  <thead>\n",
       "    <tr style=\"text-align: right;\">\n",
       "      <th></th>\n",
       "      <th>EDCS-ID</th>\n",
       "      <th>publication</th>\n",
       "      <th>province</th>\n",
       "      <th>province_list</th>\n",
       "      <th>place</th>\n",
       "      <th>place_list</th>\n",
       "      <th>end_yr_list</th>\n",
       "      <th>notes_dating</th>\n",
       "      <th>status_list</th>\n",
       "      <th>inscr_type</th>\n",
       "      <th>status_notation</th>\n",
       "      <th>inscr_process</th>\n",
       "      <th>notes_references</th>\n",
       "      <th>notes_comments</th>\n",
       "      <th>inscription</th>\n",
       "      <th>inscription_stripped_final</th>\n",
       "      <th>clean_text_interpretive_word</th>\n",
       "      <th>Links</th>\n",
       "      <th>language</th>\n",
       "      <th>dating from</th>\n",
       "      <th>dating to</th>\n",
       "      <th>start_yr</th>\n",
       "      <th>end_yr_1</th>\n",
       "      <th>status</th>\n",
       "      <th>Latitude</th>\n",
       "      <th>Longitude</th>\n",
       "      <th>photo</th>\n",
       "      <th>Material</th>\n",
       "      <th>Comment</th>\n",
       "    </tr>\n",
       "  </thead>\n",
       "  <tbody>\n",
       "    <tr>\n",
       "      <th>0</th>\n",
       "      <td>EDCS-31400030</td>\n",
       "      <td>CIL 03, 12297</td>\n",
       "      <td>Achaia</td>\n",
       "      <td>Achaia</td>\n",
       "      <td>?</td>\n",
       "      <td>?</td>\n",
       "      <td>{}</td>\n",
       "      <td></td>\n",
       "      <td>{}</td>\n",
       "      <td>{}</td>\n",
       "      <td>{}</td>\n",
       "      <td>{}</td>\n",
       "      <td></td>\n",
       "      <td></td>\n",
       "      <td>Leius</td>\n",
       "      <td>Leius</td>\n",
       "      <td>Leius</td>\n",
       "      <td>NaN</td>\n",
       "      <td>NaN</td>\n",
       "      <td>NaN</td>\n",
       "      <td>NaN</td>\n",
       "      <td>NaN</td>\n",
       "      <td>NaN</td>\n",
       "      <td>NaN</td>\n",
       "      <td>NaN</td>\n",
       "      <td>NaN</td>\n",
       "      <td>NaN</td>\n",
       "      <td>NaN</td>\n",
       "      <td>NaN</td>\n",
       "    </tr>\n",
       "    <tr>\n",
       "      <th>1</th>\n",
       "      <td>EDCS-24700151</td>\n",
       "      <td>CIL 01, 02650 (p 1097) = IG-05-01, 00741 = ILL...</td>\n",
       "      <td>Achaia</td>\n",
       "      <td>Achaia</td>\n",
       "      <td>Afesou</td>\n",
       "      <td>Afesou</td>\n",
       "      <td>{}</td>\n",
       "      <td></td>\n",
       "      <td>{}</td>\n",
       "      <td>{}</td>\n",
       "      <td>{}</td>\n",
       "      <td>{}</td>\n",
       "      <td></td>\n",
       "      <td></td>\n",
       "      <td>// D(ecimi) Leivei D(ecimi) Leivei salve</td>\n",
       "      <td>// D(ecimi) Leivei D(ecimi) Leivei salve</td>\n",
       "      <td>Decimi Leivei Decimi Leivei salve</td>\n",
       "      <td>http://db.edcs.eu/epigr/partner.php?s_language...</td>\n",
       "      <td>GR</td>\n",
       "      <td>NaN</td>\n",
       "      <td>NaN</td>\n",
       "      <td>NaN</td>\n",
       "      <td>NaN</td>\n",
       "      <td>NaN</td>\n",
       "      <td>NaN</td>\n",
       "      <td>NaN</td>\n",
       "      <td>NaN</td>\n",
       "      <td>NaN</td>\n",
       "      <td>NaN</td>\n",
       "    </tr>\n",
       "    <tr>\n",
       "      <th>2</th>\n",
       "      <td>EDCS-24900077</td>\n",
       "      <td>CIL 01, 00746 (p 944) = D 00867 = ILLRP 00374 ...</td>\n",
       "      <td>Achaia</td>\n",
       "      <td>Achaia</td>\n",
       "      <td>Agia Triada / Merbaka / Midea</td>\n",
       "      <td>[Agia Triada, Merbaka, Midea]</td>\n",
       "      <td>-68</td>\n",
       "      <td></td>\n",
       "      <td>[officium/professio, ordo senatorius, tituli h...</td>\n",
       "      <td>tituli honorarii</td>\n",
       "      <td>[officium/professio, ordo senatorius, tria nom...</td>\n",
       "      <td>{}</td>\n",
       "      <td></td>\n",
       "      <td></td>\n",
       "      <td>Q(uinto) Caecilio C(ai) f(ilio) Metel(l)o / im...</td>\n",
       "      <td>Q(uinto) Caecilio C(ai) f(ilio) Metel(l)o / im...</td>\n",
       "      <td>Quinto Caecilio Cai filio Metello imperatori I...</td>\n",
       "      <td>http://db.edcs.eu/epigr/partner.php?s_language...</td>\n",
       "      <td>NaN</td>\n",
       "      <td>-68</td>\n",
       "      <td>-68</td>\n",
       "      <td>-68.0</td>\n",
       "      <td>-68.0</td>\n",
       "      <td>officium/professio; ordo senatorius; tituli ho...</td>\n",
       "      <td>37.6381128</td>\n",
       "      <td>22.8052991</td>\n",
       "      <td>http://db.edcs.eu/epigr/bilder.php?bilder.php?...</td>\n",
       "      <td>NaN</td>\n",
       "      <td>NaN</td>\n",
       "    </tr>\n",
       "    <tr>\n",
       "      <th>3</th>\n",
       "      <td>EDCS-03700724</td>\n",
       "      <td>ZPE-108-159 = Thesprotia 00001 = AE 1993, 0140...</td>\n",
       "      <td>Achaia</td>\n",
       "      <td>Achaia</td>\n",
       "      <td>Agios Athanasios / Photike</td>\n",
       "      <td>[Agios Athanasios, Photike]</td>\n",
       "      <td>313</td>\n",
       "      <td></td>\n",
       "      <td>[Augusti/Augustae, litterae erasae, ordo eques...</td>\n",
       "      <td>tituli honorarii</td>\n",
       "      <td>[Augusti/Augustae, ordo equester, tria nomina]</td>\n",
       "      <td>litterae erasae</td>\n",
       "      <td></td>\n",
       "      <td></td>\n",
       "      <td>Fortissimo et Piis/simo Caesari d(omino) n(ost...</td>\n",
       "      <td>Fortissimo et Piis/simo Caesari d(omino) n(ost...</td>\n",
       "      <td>Fortissimo et Piissimo Caesari domino nostro G...</td>\n",
       "      <td>http://db.edcs.eu/epigr/partner.php?s_language...</td>\n",
       "      <td>NaN</td>\n",
       "      <td>309</td>\n",
       "      <td>313</td>\n",
       "      <td>309.0</td>\n",
       "      <td>313.0</td>\n",
       "      <td>Augusti/Augustae; litterae erasae; ordo equest...</td>\n",
       "      <td>39.4512182</td>\n",
       "      <td>20.7667673</td>\n",
       "      <td>http://db.edcs.eu/epigr/bilder.php?bilder.php?...</td>\n",
       "      <td>NaN</td>\n",
       "      <td>NaN</td>\n",
       "    </tr>\n",
       "    <tr>\n",
       "      <th>4</th>\n",
       "      <td>EDCS-55701593</td>\n",
       "      <td>AE 2009, 01286a</td>\n",
       "      <td>Achaia</td>\n",
       "      <td>Achaia</td>\n",
       "      <td>Agios Donatos / Photike</td>\n",
       "      <td>[Agios Donatos, Photike]</td>\n",
       "      <td>{}</td>\n",
       "      <td></td>\n",
       "      <td>[sigilla impressa, tituli fabricationis]</td>\n",
       "      <td>tituli fabricationis</td>\n",
       "      <td>{}</td>\n",
       "      <td>sigilla impressa</td>\n",
       "      <td></td>\n",
       "      <td></td>\n",
       "      <td>Cn(aeus) Atei(us)</td>\n",
       "      <td>Cn(aeus) Atei(us)</td>\n",
       "      <td>Cnaeus Ateius</td>\n",
       "      <td>NaN</td>\n",
       "      <td>NaN</td>\n",
       "      <td>NaN</td>\n",
       "      <td>NaN</td>\n",
       "      <td>NaN</td>\n",
       "      <td>NaN</td>\n",
       "      <td>sigilla impressa; tituli fabricationis</td>\n",
       "      <td>39.4759759</td>\n",
       "      <td>20.5069076</td>\n",
       "      <td>NaN</td>\n",
       "      <td>opus figlinae</td>\n",
       "      <td>NaN</td>\n",
       "    </tr>\n",
       "  </tbody>\n",
       "</table>\n",
       "</div>"
      ],
      "text/plain": [
       "         EDCS-ID                                        publication province  \\\n",
       "0  EDCS-31400030                                      CIL 03, 12297   Achaia   \n",
       "1  EDCS-24700151  CIL 01, 02650 (p 1097) = IG-05-01, 00741 = ILL...   Achaia   \n",
       "2  EDCS-24900077  CIL 01, 00746 (p 944) = D 00867 = ILLRP 00374 ...   Achaia   \n",
       "3  EDCS-03700724  ZPE-108-159 = Thesprotia 00001 = AE 1993, 0140...   Achaia   \n",
       "4  EDCS-55701593                                    AE 2009, 01286a   Achaia   \n",
       "\n",
       "  province_list                          place                     place_list  \\\n",
       "0        Achaia                              ?                              ?   \n",
       "1        Achaia                         Afesou                         Afesou   \n",
       "2        Achaia  Agia Triada / Merbaka / Midea  [Agia Triada, Merbaka, Midea]   \n",
       "3        Achaia     Agios Athanasios / Photike    [Agios Athanasios, Photike]   \n",
       "4        Achaia        Agios Donatos / Photike       [Agios Donatos, Photike]   \n",
       "\n",
       "  end_yr_list notes_dating                                        status_list  \\\n",
       "0          {}                                                              {}   \n",
       "1          {}                                                              {}   \n",
       "2         -68               [officium/professio, ordo senatorius, tituli h...   \n",
       "3         313               [Augusti/Augustae, litterae erasae, ordo eques...   \n",
       "4          {}                        [sigilla impressa, tituli fabricationis]   \n",
       "\n",
       "             inscr_type                                    status_notation  \\\n",
       "0                    {}                                                 {}   \n",
       "1                    {}                                                 {}   \n",
       "2      tituli honorarii  [officium/professio, ordo senatorius, tria nom...   \n",
       "3      tituli honorarii     [Augusti/Augustae, ordo equester, tria nomina]   \n",
       "4  tituli fabricationis                                                 {}   \n",
       "\n",
       "      inscr_process notes_references notes_comments  \\\n",
       "0                {}                                   \n",
       "1                {}                                   \n",
       "2                {}                                   \n",
       "3   litterae erasae                                   \n",
       "4  sigilla impressa                                   \n",
       "\n",
       "                                         inscription  \\\n",
       "0                                              Leius   \n",
       "1           // D(ecimi) Leivei D(ecimi) Leivei salve   \n",
       "2  Q(uinto) Caecilio C(ai) f(ilio) Metel(l)o / im...   \n",
       "3  Fortissimo et Piis/simo Caesari d(omino) n(ost...   \n",
       "4                                  Cn(aeus) Atei(us)   \n",
       "\n",
       "                          inscription_stripped_final  \\\n",
       "0                                              Leius   \n",
       "1           // D(ecimi) Leivei D(ecimi) Leivei salve   \n",
       "2  Q(uinto) Caecilio C(ai) f(ilio) Metel(l)o / im...   \n",
       "3  Fortissimo et Piis/simo Caesari d(omino) n(ost...   \n",
       "4                                  Cn(aeus) Atei(us)   \n",
       "\n",
       "                        clean_text_interpretive_word  \\\n",
       "0                                              Leius   \n",
       "1                  Decimi Leivei Decimi Leivei salve   \n",
       "2  Quinto Caecilio Cai filio Metello imperatori I...   \n",
       "3  Fortissimo et Piissimo Caesari domino nostro G...   \n",
       "4                                      Cnaeus Ateius   \n",
       "\n",
       "                                               Links language dating from  \\\n",
       "0                                                NaN      NaN         NaN   \n",
       "1  http://db.edcs.eu/epigr/partner.php?s_language...       GR         NaN   \n",
       "2  http://db.edcs.eu/epigr/partner.php?s_language...      NaN         -68   \n",
       "3  http://db.edcs.eu/epigr/partner.php?s_language...      NaN         309   \n",
       "4                                                NaN      NaN         NaN   \n",
       "\n",
       "  dating to  start_yr  end_yr_1  \\\n",
       "0       NaN       NaN       NaN   \n",
       "1       NaN       NaN       NaN   \n",
       "2       -68     -68.0     -68.0   \n",
       "3       313     309.0     313.0   \n",
       "4       NaN       NaN       NaN   \n",
       "\n",
       "                                              status    Latitude   Longitude  \\\n",
       "0                                                NaN         NaN         NaN   \n",
       "1                                                NaN         NaN         NaN   \n",
       "2  officium/professio; ordo senatorius; tituli ho...  37.6381128  22.8052991   \n",
       "3  Augusti/Augustae; litterae erasae; ordo equest...  39.4512182  20.7667673   \n",
       "4             sigilla impressa; tituli fabricationis  39.4759759  20.5069076   \n",
       "\n",
       "                                               photo       Material Comment  \n",
       "0                                                NaN            NaN     NaN  \n",
       "1                                                NaN            NaN     NaN  \n",
       "2  http://db.edcs.eu/epigr/bilder.php?bilder.php?...            NaN     NaN  \n",
       "3  http://db.edcs.eu/epigr/bilder.php?bilder.php?...            NaN     NaN  \n",
       "4                                                NaN  opus figlinae     NaN  "
      ]
     },
     "execution_count": 3,
     "metadata": {},
     "output_type": "execute_result"
    }
   ],
   "source": [
    "# read edcs dataset\n",
    "publicfolder = \"1f5f56d09903fe259c0906add8b3a55e\"\n",
    "EDCS = sddk.read_file(\"EDCS_text_cleaned_2021-03-01.json\", \"df\", publicfolder)\n",
    "EDCS.head(5)"
   ]
  },
  {
   "cell_type": "code",
   "execution_count": 4,
   "metadata": {},
   "outputs": [
    {
     "name": "stdout",
     "output_type": "stream",
     "text": [
      "81476\n",
      "500618\n"
     ]
    }
   ],
   "source": [
    "# length of the original dataset\n",
    "print(len(EDH))\n",
    "print(len(EDCS))"
   ]
  },
  {
   "cell_type": "markdown",
   "metadata": {},
   "source": [
    "# Filter by language"
   ]
  },
  {
   "cell_type": "code",
   "execution_count": 5,
   "metadata": {},
   "outputs": [
    {
     "name": "stdout",
     "output_type": "stream",
     "text": [
      "80177\n",
      "477549\n"
     ]
    }
   ],
   "source": [
    "# focus on latin inscriptions only\n",
    "EDH = EDH[EDH[\"language\"].notnull()]\n",
    "EDH = EDH[EDH[\"language\"].str.contains(\"Latin\")]\n",
    "print(len(EDH))\n",
    "\n",
    "# focus on latin inscriptions only\n",
    "EDCS = EDCS[EDCS[\"language\"].isnull()]\n",
    "print(len(EDCS))"
   ]
  },
  {
   "cell_type": "markdown",
   "metadata": {},
   "source": [
    "# Deduplicate EDCS/EDH by EDCS \"Links\" column"
   ]
  },
  {
   "cell_type": "code",
   "execution_count": 6,
   "metadata": {},
   "outputs": [],
   "source": [
    "# identify overlapping inscriptions\n",
    "# EDCS contains \"Links\" column, containing reference to EDH\n",
    "links_with_edh = EDCS[EDCS[\"Links\"].str.contains(\"edh\", na=False)][\"Links\"].tolist()\n",
    "edh_ids = [link.rpartition(\"edh/inschrift/\")[2].split()[0] for link in links_with_edh]"
   ]
  },
  {
   "cell_type": "code",
   "execution_count": 7,
   "metadata": {
    "scrolled": true
   },
   "outputs": [
    {
     "data": {
      "text/plain": [
       "72177"
      ]
     },
     "execution_count": 7,
     "metadata": {},
     "output_type": "execute_result"
    }
   ],
   "source": [
    "len(edh_ids)"
   ]
  },
  {
   "cell_type": "code",
   "execution_count": 8,
   "metadata": {},
   "outputs": [
    {
     "data": {
      "text/plain": [
       "90.02207615650374"
      ]
     },
     "execution_count": 8,
     "metadata": {},
     "output_type": "execute_result"
    }
   ],
   "source": [
    "# percents covered: \n",
    "len(edh_ids) / len(EDH) * 100"
   ]
  },
  {
   "cell_type": "code",
   "execution_count": 9,
   "metadata": {},
   "outputs": [
    {
     "data": {
      "text/plain": [
       "405372"
      ]
     },
     "execution_count": 9,
     "metadata": {},
     "output_type": "execute_result"
    }
   ],
   "source": [
    "# remove them from the dataset\n",
    "EDCS = EDCS[~EDCS[\"Links\"].str.contains(\"edh\", na=False)]\n",
    "len(EDCS)"
   ]
  },
  {
   "cell_type": "code",
   "execution_count": 10,
   "metadata": {},
   "outputs": [
    {
     "data": {
      "text/plain": [
       "72177"
      ]
     },
     "execution_count": 10,
     "metadata": {},
     "output_type": "execute_result"
    }
   ],
   "source": [
    "# EDH inscriptions explictly in EDH\n",
    "len(edh_ids)"
   ]
  },
  {
   "cell_type": "code",
   "execution_count": 11,
   "metadata": {},
   "outputs": [
    {
     "data": {
      "text/plain": [
       "9250"
      ]
     },
     "execution_count": 11,
     "metadata": {},
     "output_type": "execute_result"
    }
   ],
   "source": [
    "# inscriptions which are not explicitly refered to in EDCS\n",
    "EDH_unique = EDH[~EDH[\"id\"].isin(edh_ids)]\n",
    "len(EDH_unique)"
   ]
  },
  {
   "cell_type": "markdown",
   "metadata": {},
   "source": [
    "what about these?\n",
    "\n",
    "# Deduplicate using trismegistos API\n",
    "\n",
    "EDH standardly includes references to trismegistos. The trismegistos URI api enables queries for EDCS-ID. We will use this extract EDCS-IDs of additional inscriptions in EDCS which are in EDH  "
   ]
  },
  {
   "cell_type": "code",
   "execution_count": 12,
   "metadata": {},
   "outputs": [],
   "source": [
    "def get_edcs(trismegistos_uri):\n",
    "    try:\n",
    "        url = \"https://www.trismegistos.org/dataservices/texrelations/{}\".format(trismegistos_uri.rpartition(\"/\")[2])\n",
    "        resp = requests.get(url)\n",
    "        edcs_ids = resp.json()[3][\"EDCS\"]\n",
    "        return edcs_ids\n",
    "    except: \n",
    "        return None"
   ]
  },
  {
   "cell_type": "code",
   "execution_count": null,
   "metadata": {
    "scrolled": true
   },
   "outputs": [],
   "source": [
    "%%time\n",
    "# takes time, so use it carefully, or use data from the previous run below\n",
    "EDH_unique[\"edcs_ids\"] = EDH_unique[\"trismegistos_uri\"].apply(get_edcs)"
   ]
  },
  {
   "cell_type": "code",
   "execution_count": null,
   "metadata": {},
   "outputs": [],
   "source": [
    "edcs_to_edh_dict = {}\n",
    "for edh_id, edcs_ids in zip(EDH_unique[\"id\"], EDH_unique[\"edcs_ids\"]):\n",
    "    try:\n",
    "        for edcs_id in edcs_ids:\n",
    "            edcs_to_edh_dict[\"EDCS-\" + edcs_id] = edh_id\n",
    "    except:\n",
    "        pass"
   ]
  },
  {
   "cell_type": "code",
   "execution_count": 33,
   "metadata": {},
   "outputs": [],
   "source": [
    "# save for future usage\n",
    "with open(\"../data/edcs_to_edh_dict.json\", \"w\") as f:\n",
    "    json.dump(edcs_to_edh_dict, f)"
   ]
  },
  {
   "cell_type": "code",
   "execution_count": 13,
   "metadata": {},
   "outputs": [],
   "source": [
    "# upload the previously identified pairs\n",
    "with open(\"../data/edcs_to_edh_dict.json\", \"r\") as f:\n",
    "    edcs_to_edh_dict = json.load(f)"
   ]
  },
  {
   "cell_type": "code",
   "execution_count": 14,
   "metadata": {},
   "outputs": [
    {
     "data": {
      "text/plain": [
       "405372"
      ]
     },
     "execution_count": 14,
     "metadata": {},
     "output_type": "execute_result"
    }
   ],
   "source": [
    "# actual length of EDCS\n",
    "len(EDCS)"
   ]
  },
  {
   "cell_type": "code",
   "execution_count": 15,
   "metadata": {},
   "outputs": [],
   "source": [
    "edcs_edh_keys = list(edcs_to_edh_dict.keys())"
   ]
  },
  {
   "cell_type": "code",
   "execution_count": 16,
   "metadata": {},
   "outputs": [
    {
     "data": {
      "text/plain": [
       "5483"
      ]
     },
     "execution_count": 16,
     "metadata": {},
     "output_type": "execute_result"
    }
   ],
   "source": [
    "# EDCS-IDs of additional duplicate inscriptions (captured by trismegistos api)\n",
    "len(edcs_edh_keys)"
   ]
  },
  {
   "cell_type": "code",
   "execution_count": 17,
   "metadata": {},
   "outputs": [
    {
     "data": {
      "text/plain": [
       "401366"
      ]
     },
     "execution_count": 17,
     "metadata": {},
     "output_type": "execute_result"
    }
   ],
   "source": [
    "# use these keys to remove the remaining duplicates from EDCS\n",
    "EDCS = EDCS[~EDCS[\"EDCS-ID\"].isin(edcs_edh_keys)]\n",
    "len(EDCS)"
   ]
  },
  {
   "cell_type": "markdown",
   "metadata": {},
   "source": [
    "# Filter by dating"
   ]
  },
  {
   "cell_type": "code",
   "execution_count": 18,
   "metadata": {},
   "outputs": [],
   "source": [
    "EDCS.rename(columns={\"start_yr\" : \"not_before\", \"end_yr_1\" : \"not_after\"}, inplace=True)"
   ]
  },
  {
   "cell_type": "code",
   "execution_count": 19,
   "metadata": {},
   "outputs": [
    {
     "name": "stdout",
     "output_type": "stream",
     "text": [
      "not_before: 98045\n",
      "not_after: 98687\n",
      "not_before or not_after: 98751\n"
     ]
    }
   ],
   "source": [
    "print(\"not_before: {0}\".format(len(EDCS[(EDCS[\"not_before\"].notnull())])))\n",
    "print(\"not_after: {0}\".format(len(EDCS[EDCS[\"not_after\"].notnull()])))\n",
    "print(\"not_before or not_after: {0}\".format(len(EDCS[(EDCS[\"not_before\"].notnull()) | (EDCS[\"not_after\"].notnull())])))"
   ]
  },
  {
   "cell_type": "code",
   "execution_count": 20,
   "metadata": {},
   "outputs": [
    {
     "data": {
      "text/plain": [
       "98751"
      ]
     },
     "execution_count": 20,
     "metadata": {},
     "output_type": "execute_result"
    }
   ],
   "source": [
    "# having at least some form of date\n",
    "EDCS = EDCS[(EDCS[\"not_before\"].notnull()) | (EDCS[\"not_after\"].notnull())]\n",
    "len(EDCS)\n",
    "# originally we had 98972"
   ]
  },
  {
   "cell_type": "code",
   "execution_count": 21,
   "metadata": {},
   "outputs": [],
   "source": [
    "# this date being numeric\n",
    "def to_int(date_str):\n",
    "    try: return int(date_str)\n",
    "    except: return None\n",
    "    \n",
    "EDCS[\"not_before\"] = EDCS[\"not_before\"].apply(to_int)\n",
    "EDCS[\"not_after\"] = EDCS[\"not_after\"].apply(to_int)"
   ]
  },
  {
   "cell_type": "code",
   "execution_count": 22,
   "metadata": {},
   "outputs": [
    {
     "data": {
      "text/plain": [
       "88088"
      ]
     },
     "execution_count": 22,
     "metadata": {},
     "output_type": "execute_result"
    }
   ],
   "source": [
    "# these dates within the desired range\n",
    "EDCS = (EDCS[(EDCS[\"not_before\"].between(-50, 350) | (EDCS[\"not_after\"].between(-50, 350)))])\n",
    "len(EDCS)"
   ]
  },
  {
   "cell_type": "code",
   "execution_count": 23,
   "metadata": {},
   "outputs": [
    {
     "data": {
      "text/plain": [
       "80177"
      ]
     },
     "execution_count": 23,
     "metadata": {},
     "output_type": "execute_result"
    }
   ],
   "source": [
    "len(EDH)"
   ]
  },
  {
   "cell_type": "code",
   "execution_count": 24,
   "metadata": {},
   "outputs": [
    {
     "data": {
      "text/plain": [
       "56466"
      ]
     },
     "execution_count": 24,
     "metadata": {},
     "output_type": "execute_result"
    }
   ],
   "source": [
    "# this date within the desired range\n",
    "EDH[\"not_before\"] = EDH[\"not_before\"].apply(to_int)\n",
    "EDH[\"not_after\"] = EDH[\"not_after\"].apply(to_int)\n",
    "EDH = EDH[(EDH[\"not_before\"].between(-50, 350) | (EDH[\"not_after\"].between(-50, 350)))]\n",
    "len(EDH)"
   ]
  },
  {
   "cell_type": "markdown",
   "metadata": {},
   "source": [
    "# Create geodataframes"
   ]
  },
  {
   "cell_type": "code",
   "execution_count": 25,
   "metadata": {},
   "outputs": [
    {
     "data": {
      "text/plain": [
       "55557"
      ]
     },
     "execution_count": 25,
     "metadata": {},
     "output_type": "execute_result"
    }
   ],
   "source": [
    "# EDH as geodataframe\n",
    "EDHg= EDH[EDH[\"coordinates\"].apply(lambda x: isinstance(x, list))]\n",
    "EDHg = gpd.GeoDataFrame(EDHg, geometry=gpd.points_from_xy(EDHg[\"coordinates\"].apply(lambda x: x[0]), EDHg[\"coordinates\"].apply(lambda x: x[1])), crs={\"init\": \"epsg:3857\"})\n",
    "len(EDHg)"
   ]
  },
  {
   "cell_type": "code",
   "execution_count": 26,
   "metadata": {},
   "outputs": [
    {
     "data": {
      "text/plain": [
       "86831"
      ]
     },
     "execution_count": 26,
     "metadata": {},
     "output_type": "execute_result"
    }
   ],
   "source": [
    "# EDCS as geodataframe\n",
    "EDCSg = EDCS[EDCS[\"Latitude\"].notnull()]\n",
    "EDCSg = gpd.GeoDataFrame(EDCSg, geometry=gpd.points_from_xy(EDCSg[\"Longitude\"], EDCSg[\"Latitude\"]))\n",
    "len(EDCSg)"
   ]
  },
  {
   "cell_type": "markdown",
   "metadata": {},
   "source": [
    "# Inscriptions within the provinces"
   ]
  },
  {
   "cell_type": "code",
   "execution_count": 27,
   "metadata": {},
   "outputs": [],
   "source": [
    "pleiades_regions = gpd.read_file('../data/pleiades_regions.geojson', driver='GeoJSON')"
   ]
  },
  {
   "cell_type": "code",
   "execution_count": 28,
   "metadata": {},
   "outputs": [],
   "source": [
    "# merge the regions into one multipolygon\n",
    "RE_merged = pleiades_regions.unary_union"
   ]
  },
  {
   "cell_type": "code",
   "execution_count": 29,
   "metadata": {},
   "outputs": [],
   "source": [
    "def re_by_id(id, dataset=None):\n",
    "    if dataset == \"EDH\":\n",
    "        try: return EDH_within_RE_dict[id]\n",
    "        except: return False\n",
    "    elif dataset == \"EDCS\":\n",
    "        try: return EDCS_within_RE_dict[id]\n",
    "        except: return False\n",
    "    else:\n",
    "        return False"
   ]
  },
  {
   "cell_type": "code",
   "execution_count": 30,
   "metadata": {},
   "outputs": [],
   "source": [
    "# previously computed inscriptions within RE\n",
    "with open(\"../data/EDH_within_RE_dict.json\", \"r\") as f:\n",
    "    EDH_within_RE_dict = json.load(f)\n",
    "\n",
    "EDHg[\"within_RE\"]= EDHg[\"id\"].apply(re_by_id, dataset=\"EDH\")\n",
    "# to recompute, uncomment the following (takes approx five minutes):\n",
    "#EDHg[\"within_RE\"] = EDHg.within(RE_merged)\n",
    "#EDH_within_RE_dict = dict(zip(EDHg[\"id\"].tolist(), EDHg[\"within_RE\"]))\n",
    "#with open(\"../data/EDH_within_RE_dict.json\", \"w\") as f:\n",
    "#    json.dump(EDH_within_RE_dict, f)"
   ]
  },
  {
   "cell_type": "code",
   "execution_count": 31,
   "metadata": {},
   "outputs": [],
   "source": [
    "with open(\"../data/EDCS_within_RE_dict.json\", \"r\") as f:\n",
    "    EDCS_within_RE_dict = json.load(f)\n",
    "\n",
    "EDCSg[\"within_RE\"]= EDCSg[\"EDCS-ID\"].apply(re_by_id, dataset=\"EDCS\")\n",
    "# to recompute, uncomment the following (takes approx 30 minutes):\n",
    "#EDCSg[\"within_RE\"] = EDCSg.within(RE_merged)\n",
    "#EDCS_within_RE_dict = dict(zip(EDCSg[\"EDCS-ID\"].tolist(), EDCSg[\"within_RE\"]))\n",
    "#with open(\"../data/EDCS_within_RE_dict.json\", \"w\") as f:\n",
    "#  json.dump(EDCS_within_RE_dict, f)"
   ]
  },
  {
   "cell_type": "code",
   "execution_count": 32,
   "metadata": {},
   "outputs": [],
   "source": [
    "EDHg = EDHg[EDHg[\"within_RE\"]==True]\n",
    "EDCSg = EDCSg[EDCSg[\"within_RE\"]==True]"
   ]
  },
  {
   "cell_type": "code",
   "execution_count": 33,
   "metadata": {},
   "outputs": [
    {
     "name": "stdout",
     "output_type": "stream",
     "text": [
      "52708\n",
      "83482\n",
      "total: 136190\n"
     ]
    }
   ],
   "source": [
    "print(len(EDHg))\n",
    "print(len(EDCSg))\n",
    "print(\"total: {0}\".format(len(EDHg) + len(EDCSg)))"
   ]
  },
  {
   "cell_type": "code",
   "execution_count": 35,
   "metadata": {},
   "outputs": [],
   "source": [
    "import matplotlib.pyplot as plt\n",
    "import geoplot as gplt"
   ]
  },
  {
   "cell_type": "code",
   "execution_count": null,
   "metadata": {},
   "outputs": [],
   "source": [
    "fig, [ax1, ax2] = plt.subplots(2, 1, figsize=[5.2, 7], tight_layout=True)\n",
    "\n",
    "plt.rcParams['axes.titley'] = 1.0 \n",
    "plt.rcParams['axes.titlepad'] = -14\n",
    "\n",
    "pleiades_regions.plot(ax=ax1, color=\"lightgray\")\n",
    "gplt.kdeplot(EDHg, cmap='Reds', shade=True, ax=ax1) # , clip=EDHg.geometry,\n",
    "EDHg.plot(ax=ax1, color=\"darkred\", markersize=0.3)\n",
    "ax1.set_axis_off()\n",
    "ax1.set_xlim(-10, 41)\n",
    "ax1.set_ylim(23, 55.5)\n",
    "ax1.set_title(\"EDH (N={0})\".format(len(EDHg)))\n",
    "\n",
    "pleiades_regions.plot(ax=ax2, color=\"lightgray\")\n",
    "gplt.kdeplot(EDCSg, cmap='Greens', shade=True, ax=ax2) # , clip=EDHg.geometry,\n",
    "EDCSg.plot(ax=ax2, alpha=0.4, color=\"darkgreen\", markersize=0.3)\n",
    "ax2.set_axis_off()\n",
    "ax2.set_xlim(-10, 41)\n",
    "ax2.set_ylim(23, 55.5)\n",
    "ax2.set_title(\"EDCS (N={0})\".format(len(EDCSg)))"
   ]
  },
  {
   "cell_type": "code",
   "execution_count": null,
   "metadata": {},
   "outputs": [],
   "source": [
    "EDH.to_json(\"../data/large_files/EDH_filtered.json\")\n",
    "EDCS.to_json(\"../data/large_files/EDCS_filtered.json\")"
   ]
  },
  {
   "cell_type": "code",
   "execution_count": null,
   "metadata": {},
   "outputs": [],
   "source": []
  }
 ],
 "metadata": {
  "kernelspec": {
   "display_name": "ascnet_venv",
   "language": "python",
   "name": "ascnet_venv"
  },
  "language_info": {
   "codemirror_mode": {
    "name": "ipython",
    "version": 3
   },
   "file_extension": ".py",
   "mimetype": "text/x-python",
   "name": "python",
   "nbconvert_exporter": "python",
   "pygments_lexer": "ipython3",
   "version": "3.6.9"
  }
 },
 "nbformat": 4,
 "nbformat_minor": 4
}
